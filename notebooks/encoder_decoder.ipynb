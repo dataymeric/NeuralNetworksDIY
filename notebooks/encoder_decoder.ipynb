{
 "cells": [
  {
   "cell_type": "code",
   "execution_count": 1,
   "metadata": {},
   "outputs": [
    {
     "name": "stdout",
     "output_type": "stream",
     "text": [
      "/mnt/48566869-e5b1-482e-907d-2c513d1afe25/Documents/NeuralNetworksDIY\n"
     ]
    }
   ],
   "source": [
    "%cd ..\n",
    "import os\n",
    "from sklearn.datasets import load_digits\n",
    "from sklearn.preprocessing import OneHotEncoder\n",
    "from skimage import io, transform\n",
    "import numpy as np\n",
    "import pandas as pd\n",
    "import seaborn as sns\n",
    "import matplotlib.pyplot as plt\n",
    "from src.linear import Linear\n",
    "from src.loss import *\n",
    "from src.activation import TanH, Sigmoid, Softmax, ReLU, Softplus\n",
    "from src.encapsulation import Sequential, Optim\n",
    "np.random.seed(42)"
   ]
  },
  {
   "attachments": {},
   "cell_type": "markdown",
   "metadata": {},
   "source": [
    "jouer avec les hpyerparam\n",
    "espace latent\n",
    "les initialisation \n",
    "plein de loss \n",
    "qu'est ce qui boost les perfs "
   ]
  },
  {
   "attachments": {},
   "cell_type": "markdown",
   "metadata": {},
   "source": [
    "# Débruitage d'image plus petite"
   ]
  },
  {
   "attachments": {},
   "cell_type": "markdown",
   "metadata": {},
   "source": [
    "fashion mnist"
   ]
  },
  {
   "cell_type": "code",
   "execution_count": 5,
   "metadata": {},
   "outputs": [],
   "source": [
    "def load_data(rootdir, trim: float = 0.5):\n",
    "    def normalize_batch_image(X):\n",
    "        mn = np.min(X)\n",
    "        mx = np.max(X)\n",
    "        X_norm = (X - mn) * (1.0 / (mx - mn))\n",
    "        return X_norm\n",
    "\n",
    "    train = pd.read_csv(os.path.join(rootdir, \"fashion-mnist_train.csv\"))\n",
    "    y_train = train[\"label\"].values\n",
    "    X_train = train.drop(columns=\"label\").values\n",
    "\n",
    "    test = pd.read_csv(os.path.join(rootdir, \"fashion-mnist_test.csv\"))\n",
    "    y_test = test[\"label\"].values\n",
    "    X_test = test.drop(columns=\"label\").values\n",
    "\n",
    "    trim_train = int(len(X_train) * trim)\n",
    "    # trim_test = int(len(X_test) * trim)\n",
    "    trim_test = int(len(X_test))\n",
    "\n",
    "    # Normalization + trimming\n",
    "    X_train = normalize_batch_image(X_train[:trim_train, :])\n",
    "    X_test = normalize_batch_image(X_test[:trim_test, :])\n",
    "    y_train = normalize_batch_image(y_train[:trim_train])\n",
    "    y_test = normalize_batch_image(y_test[:trim_test])\n",
    "\n",
    "    return (X_train, X_test, y_train, y_test)\n",
    "\n",
    "\n",
    "rootdir = \"./data/fashion-mnist/\"\n",
    "X_train, X_test, y_train, y_test = load_data(rootdir, trim=0.1)\n",
    "\n",
    "y_train_oh = OneHotEncoder().fit_transform(y_train.reshape(-1, 1)).toarray()\n",
    "y_test_oh = OneHotEncoder().fit_transform(y_test.reshape(-1, 1)).toarray()\n",
    "nb_class = y_train_oh.shape[1]\n",
    "batch_size = 64\n"
   ]
  },
  {
   "cell_type": "code",
   "execution_count": 9,
   "metadata": {},
   "outputs": [
    {
     "name": "stderr",
     "output_type": "stream",
     "text": [
      " 20%|██        | 1/5 [00:06<00:27,  6.84s/it]"
     ]
    },
    {
     "name": "stdout",
     "output_type": "stream",
     "text": [
      "[Train] Epoch [1], Loss = 59.8859, Score = 0.0027\n",
      "[Test] Epoch [1], Loss = 96353.0982, Score = 0.0025\n"
     ]
    },
    {
     "name": "stderr",
     "output_type": "stream",
     "text": [
      " 40%|████      | 2/5 [00:14<00:21,  7.23s/it]"
     ]
    },
    {
     "name": "stdout",
     "output_type": "stream",
     "text": [
      "[Train] Epoch [2], Loss = 42.1100, Score = 0.0070\n",
      "[Test] Epoch [2], Loss = 73191.7087, Score = 0.0096\n"
     ]
    },
    {
     "name": "stderr",
     "output_type": "stream",
     "text": [
      " 60%|██████    | 3/5 [00:21<00:14,  7.31s/it]"
     ]
    },
    {
     "name": "stdout",
     "output_type": "stream",
     "text": [
      "[Train] Epoch [3], Loss = 33.3600, Score = 0.0132\n",
      "[Test] Epoch [3], Loss = 61101.6482, Score = 0.0111\n"
     ]
    },
    {
     "name": "stderr",
     "output_type": "stream",
     "text": [
      " 80%|████████  | 4/5 [00:30<00:07,  7.76s/it]"
     ]
    },
    {
     "name": "stdout",
     "output_type": "stream",
     "text": [
      "[Train] Epoch [4], Loss = 28.8267, Score = 0.0159\n",
      "[Test] Epoch [4], Loss = 54765.2065, Score = 0.0126\n"
     ]
    },
    {
     "name": "stderr",
     "output_type": "stream",
     "text": [
      "100%|██████████| 5/5 [00:38<00:00,  7.62s/it]"
     ]
    },
    {
     "name": "stdout",
     "output_type": "stream",
     "text": [
      "[Train] Epoch [5], Loss = 26.2921, Score = 0.0154\n",
      "[Test] Epoch [5], Loss = 50804.9892, Score = 0.0136\n"
     ]
    },
    {
     "name": "stderr",
     "output_type": "stream",
     "text": [
      "\n"
     ]
    },
    {
     "data": {
      "text/plain": [
       "<Axes: xlabel='epoch', ylabel='loss'>"
      ]
     },
     "execution_count": 9,
     "metadata": {},
     "output_type": "execute_result"
    },
    {
     "data": {
      "image/png": "[encoded data removed]",
      "text/plain": [
       "<Figure size 640x480 with 1 Axes>"
      ]
     },
     "metadata": {},
     "output_type": "display_data"
    }
   ],
   "source": [
    "encoder = [\n",
    "    Linear(784, 64, init_type=\"xavier_uniform\"),\n",
    "    TanH(),\n",
    "]\n",
    "decoder = [Linear(64, 784, init_type=\"xavier_uniform\"), Sigmoid()]\n",
    "net = Sequential(*(encoder + decoder))\n",
    "optimizer = Optim(net.reset(), MSELoss(), eps=1e-3)\n",
    "result_df = optimizer.SGD_eval(\n",
    "    X_train, X_train, batch_size, 5, test_size=0.33, return_dataframe=True\n",
    ")\n",
    "\n",
    "_, ax = plt.subplots()\n",
    "loss_long_df = pd.melt(\n",
    "    result_df,\n",
    "    id_vars=\"epoch\",\n",
    "    value_vars=[\"loss_test\", \"loss_train\"],\n",
    "    value_name=\"loss\",\n",
    "    var_name=\"during\",\n",
    ").replace({\"loss_test\": \"test\", \"loss_train\": \"train\"})\n",
    "sns.lineplot(data=loss_long_df, x=\"epoch\", y=\"loss\", hue=\"during\", ax=ax)\n"
   ]
  },
  {
   "cell_type": "code",
   "execution_count": null,
   "metadata": {},
   "outputs": [],
   "source": [
    "from sklearn.datasets import fetch_openml\n",
    "from sklearn.model_selection import train_test_split\n",
    "from sklearn.preprocessing import OneHotEncoder, StandardScaler\n",
    "\n",
    "\n",
    "class AutoEncoder:\n",
    "    def __init__(self, encoder, decoder):\n",
    "        self.encoder = encoder\n",
    "        self.decoder = decoder\n",
    "\n",
    "    def forward(self, X):\n",
    "        return self.decoder.forward(self.encoder.forward(X))\n",
    "\n",
    "    def backward_update_gradient(self, X, delta):\n",
    "        delta = self.decoder.backward_delta(self.encoder.forward(X), delta)\n",
    "        return self.encoder.backward_delta(X, delta)\n",
    "\n",
    "    def update_parameters(self, eps):\n",
    "        self.encoder.update_parameters(eps)\n",
    "        self.decoder.update_parameters(eps)\n"
   ]
  },
  {
   "cell_type": "code",
   "execution_count": null,
   "metadata": {},
   "outputs": [],
   "source": [
    "optimizer = Optim(net.reset(), MSELoss(), eps=1e-3)\n",
    "optimizer.SGD(X_train, X_train, batch_size, 10)\n"
   ]
  },
  {
   "cell_type": "code",
   "execution_count": 6,
   "metadata": {},
   "outputs": [
    {
     "data": {
      "image/png": "[encoded data removed]",
      "text/plain": [
       "<Figure size 2000x400 with 20 Axes>"
      ]
     },
     "metadata": {},
     "output_type": "display_data"
    }
   ],
   "source": [
    "n = 10\n",
    "decoded_imgs = net.forward(X_test)\n",
    "plt.figure(figsize=(20, 4))\n",
    "for i in range(n):\n",
    "    # display original\n",
    "    ax = plt.subplot(2, n, i + 1)\n",
    "    plt.imshow(X_test[i].reshape(28, 28))\n",
    "    plt.title(\"original\")\n",
    "    plt.gray()\n",
    "    ax.get_xaxis().set_visible(False)\n",
    "    ax.get_yaxis().set_visible(False)\n",
    "\n",
    "    # display reconstruction\n",
    "    ax = plt.subplot(2, n, i + 1 + n)\n",
    "    plt.imshow(decoded_imgs[i].reshape(28, 28))\n",
    "    plt.title(\"reconstructed\")\n",
    "    plt.gray()\n",
    "    ax.get_xaxis().set_visible(False)\n",
    "    ax.get_yaxis().set_visible(False)\n",
    "plt.show()\n"
   ]
  },
  {
   "cell_type": "code",
   "execution_count": null,
   "metadata": {},
   "outputs": [],
   "source": []
  },
  {
   "attachments": {},
   "cell_type": "markdown",
   "metadata": {},
   "source": [
    "# Débruitage d'image"
   ]
  },
  {
   "attachments": {},
   "cell_type": "markdown",
   "metadata": {},
   "source": [
    "Dataset : https://www.kaggle.com/datasets/uurdeep/cleaning-dirty-documents-unzipped"
   ]
  },
  {
   "cell_type": "code",
   "execution_count": null,
   "metadata": {},
   "outputs": [],
   "source": [
    "def load_data(root_dir):\n",
    "    size = (540, 420)\n",
    "    X = []\n",
    "    for filepath in os.listdir(root_dir + \"/X\"):\n",
    "        imgpath = os.path.join(root_dir, \"X\", filepath)\n",
    "        image = io.imread(imgpath)\n",
    "        image = transform.resize(image, size).flatten()\n",
    "        X.append(image)\n",
    "    X = np.array(X)\n",
    "\n",
    "    y = []\n",
    "    for filepath in os.listdir(root_dir + \"/y\"):\n",
    "        imgpath = os.path.join(root_dir, \"y\", filepath)\n",
    "        image = io.imread(imgpath)\n",
    "        image = transform.resize(image, size).flatten()\n",
    "        y.append(image)\n",
    "    y = np.array(y)\n",
    "\n",
    "    return X, y\n",
    "\n",
    "\n",
    "X, y = load_data(\"./data/dirty_documents\")\n",
    "print(X.shape)\n",
    "print(y.shape)\n"
   ]
  },
  {
   "cell_type": "code",
   "execution_count": null,
   "metadata": {},
   "outputs": [],
   "source": [
    "from src.convolution import *\n",
    "\n",
    "encoder = [Conv1D(3, 1, 16, stride=2), ReLU(), Conv1D(3, 1, 8, stride=2), ReLU()]\n",
    "\n",
    "decoder = [\n",
    "    Conv1D(3, 1, 8, stride=2),\n",
    "    ReLU(),\n",
    "    Conv1D(3, 1, 16, 2),\n",
    "    ReLU(),\n",
    "    Conv1D(3, 1, 1),\n",
    "    Sigmoid(),\n",
    "]\n",
    "\n",
    "\n",
    "net = Sequential(*(encoder + decoder))\n",
    "optimizer = Optim(net, MSELoss(), eps=1e-1)\n",
    "lossList = optimizer.SGD(X[:, :, np.newaxis], y, 144, 10)\n",
    "print(lossList)\n",
    "pd.Series(lossList).plot()\n"
   ]
  },
  {
   "cell_type": "code",
   "execution_count": null,
   "metadata": {},
   "outputs": [],
   "source": []
  },
  {
   "cell_type": "code",
   "execution_count": null,
   "metadata": {},
   "outputs": [],
   "source": [
    "batch_size = 32\n",
    "d = 2  # Dim des entrées\n",
    "\n",
    "X = np.random.random(size=(256, d))\n",
    "y = np.random.choice([1], size=(256, 1))\n",
    "\n",
    "encoder = [\n",
    "    Linear(226800, 226800 // 8),\n",
    "    TanH(),\n",
    "    Linear(226800 // 8, 226800 / 16),\n",
    "    TanH(),\n",
    "    Linear(226800 / 16, 226800 / 32),\n",
    "    TanH(),\n",
    "]\n",
    "decoder = [\n",
    "    Linear(226800 / 16, 226800 / 32),\n",
    "    TanH(),\n",
    "    Linear(226800 / 8, 226800 / 16),\n",
    "    TanH(),\n",
    "    Linear(226800, 226800 / 8),\n",
    "    Sigmoid(),\n",
    "]\n",
    "net = encoder + decoder\n",
    "optimizer = Optim(net, CrossEntropyLoss(), eps=1e-1)\n",
    "lossList = optimizer.SGD(X, y, batch_size, 10)\n",
    "print(lossList)\n",
    "pd.Series(lossList).plot()\n"
   ]
  },
  {
   "cell_type": "code",
   "execution_count": null,
   "metadata": {},
   "outputs": [],
   "source": [
    "X.shape\n"
   ]
  },
  {
   "attachments": {},
   "cell_type": "markdown",
   "metadata": {},
   "source": [
    "**A faire avec une convolution**"
   ]
  }
 ],
 "metadata": {
  "kernelspec": {
   "display_name": "Python 3",
   "language": "python",
   "name": "python3"
  },
  "language_info": {
   "codemirror_mode": {
    "name": "ipython",
    "version": 3
   },
   "file_extension": ".py",
   "mimetype": "text/x-python",
   "name": "python",
   "nbconvert_exporter": "python",
   "pygments_lexer": "ipython3",
   "version": "3.10.10"
  },
  "orig_nbformat": 4
 },
 "nbformat": 4,
 "nbformat_minor": 2
}
