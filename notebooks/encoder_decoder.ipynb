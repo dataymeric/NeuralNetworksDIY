{
 "cells": [
  {
   "cell_type": "code",
   "execution_count": 2,
   "metadata": {},
   "outputs": [
    {
     "name": "stdout",
     "output_type": "stream",
     "text": [
      "/home/charles/Documents/NeuralNetworksDIY\n"
     ]
    }
   ],
   "source": [
    "%cd .."
   ]
  },
  {
   "cell_type": "code",
   "execution_count": 3,
   "metadata": {},
   "outputs": [],
   "source": [
    "import os\n",
    "import numpy as np\n",
    "import pandas as pd\n",
    "from PIL import Image\n",
    "from src.linear import Linear\n",
    "from src.loss import MSELoss, CrossEntropyLoss, BCELoss, LogSoftmax\n",
    "from src.activation import TanH, Sigmoide, Softmax\n",
    "from src.encapsulation import Sequential, Optim\n",
    "from sklearn.model_selection import train_test_split\n",
    "np.random.seed(42)\n"
   ]
  },
  {
   "attachments": {},
   "cell_type": "markdown",
   "metadata": {},
   "source": [
    "jouer avec les hpyerparam\n",
    "espace latent\n",
    "les initialisation \n",
    "plein de loss \n",
    "qu'est ce qui boost les perfs "
   ]
  },
  {
   "attachments": {},
   "cell_type": "markdown",
   "metadata": {},
   "source": [
    "# Débruitage d'image"
   ]
  },
  {
   "attachments": {},
   "cell_type": "markdown",
   "metadata": {},
   "source": [
    "Dataset : https://www.kaggle.com/datasets/uurdeep/cleaning-dirty-documents-unzipped"
   ]
  },
  {
   "cell_type": "code",
   "execution_count": 7,
   "metadata": {},
   "outputs": [
    {
     "name": "stderr",
     "output_type": "stream",
     "text": [
      "/tmp/ipykernel_10082/1889689235.py:2: FutureWarning: The input object of type 'PngImageFile' is an array-like implementing one of the corresponding protocols (`__array__`, `__array_interface__` or `__array_struct__`); but not a sequence (or 0-D). In the future, this object will be coerced as if it was first converted using `np.array(obj)`. To retain the old behaviour, you have to either modify the type 'PngImageFile', or assign to an empty array created with `np.empty(correct_shape, dtype=object)`.\n",
      "  X = np.array([(Image.open(path + '/X/' + filepath)) for filepath in os.listdir(path+'/X')])\n"
     ]
    },
    {
     "ename": "ValueError",
     "evalue": "setting an array element with a sequence. The requested array has an inhomogeneous shape after 1 dimensions. The detected shape was (144,) + inhomogeneous part.",
     "output_type": "error",
     "traceback": [
      "\u001b[0;31m---------------------------------------------------------------------------\u001b[0m",
      "\u001b[0;31mValueError\u001b[0m                                Traceback (most recent call last)",
      "Cell \u001b[0;32mIn[7], line 5\u001b[0m\n\u001b[1;32m      3\u001b[0m     y \u001b[39m=\u001b[39m np\u001b[39m.\u001b[39marray([(Image\u001b[39m.\u001b[39mopen(path \u001b[39m+\u001b[39m \u001b[39m'\u001b[39m\u001b[39m/y/\u001b[39m\u001b[39m'\u001b[39m \u001b[39m+\u001b[39m filepath)) \u001b[39mfor\u001b[39;00m filepath \u001b[39min\u001b[39;00m os\u001b[39m.\u001b[39mlistdir(path\u001b[39m+\u001b[39m\u001b[39m'\u001b[39m\u001b[39m/y\u001b[39m\u001b[39m'\u001b[39m)])\n\u001b[1;32m      4\u001b[0m     \u001b[39mreturn\u001b[39;00m X, y\n\u001b[0;32m----> 5\u001b[0m X, y \u001b[39m=\u001b[39m load_data(\u001b[39m\"\u001b[39;49m\u001b[39m./data/dirty_documents\u001b[39;49m\u001b[39m\"\u001b[39;49m)\n",
      "Cell \u001b[0;32mIn[7], line 2\u001b[0m, in \u001b[0;36mload_data\u001b[0;34m(path)\u001b[0m\n\u001b[1;32m      1\u001b[0m \u001b[39mdef\u001b[39;00m \u001b[39mload_data\u001b[39m(path):\n\u001b[0;32m----> 2\u001b[0m     X \u001b[39m=\u001b[39m np\u001b[39m.\u001b[39;49marray([(Image\u001b[39m.\u001b[39;49mopen(path \u001b[39m+\u001b[39;49m \u001b[39m'\u001b[39;49m\u001b[39m/X/\u001b[39;49m\u001b[39m'\u001b[39;49m \u001b[39m+\u001b[39;49m filepath)) \u001b[39mfor\u001b[39;49;00m filepath \u001b[39min\u001b[39;49;00m os\u001b[39m.\u001b[39;49mlistdir(path\u001b[39m+\u001b[39;49m\u001b[39m'\u001b[39;49m\u001b[39m/X\u001b[39;49m\u001b[39m'\u001b[39;49m)])\n\u001b[1;32m      3\u001b[0m     y \u001b[39m=\u001b[39m np\u001b[39m.\u001b[39marray([(Image\u001b[39m.\u001b[39mopen(path \u001b[39m+\u001b[39m \u001b[39m'\u001b[39m\u001b[39m/y/\u001b[39m\u001b[39m'\u001b[39m \u001b[39m+\u001b[39m filepath)) \u001b[39mfor\u001b[39;00m filepath \u001b[39min\u001b[39;00m os\u001b[39m.\u001b[39mlistdir(path\u001b[39m+\u001b[39m\u001b[39m'\u001b[39m\u001b[39m/y\u001b[39m\u001b[39m'\u001b[39m)])\n\u001b[1;32m      4\u001b[0m     \u001b[39mreturn\u001b[39;00m X, y\n",
      "\u001b[0;31mValueError\u001b[0m: setting an array element with a sequence. The requested array has an inhomogeneous shape after 1 dimensions. The detected shape was (144,) + inhomogeneous part."
     ]
    }
   ],
   "source": [
    "def load_data(path):\n",
    "    X = np.array([(Image.open(path + '/X/' + filepath)) for filepath in os.listdir(path+'/X')])\n",
    "    y = np.array([(Image.open(path + '/y/' + filepath)) for filepath in os.listdir(path+'/y')])\n",
    "    return X, y\n",
    "X, y = load_data(\"./data/dirty_documents\")"
   ]
  },
  {
   "cell_type": "code",
   "execution_count": null,
   "metadata": {},
   "outputs": [],
   "source": [
    "batch_size = 32\n",
    "d = 2  # Dim des entrées\n",
    "\n",
    "X = np.random.random(size=(256, d))\n",
    "y = np.random.choice([1], size=(256, 1))\n",
    "\n",
    "encoder = [\n",
    "    Linear(2, 2),\n",
    "    TanH(),\n",
    "    Linear(2, 1),\n",
    "    Sigmoide(),\n",
    "]\n",
    "decoder = [\n",
    "    \n",
    "]\n",
    "net = encoder + decoder\n",
    "optimizer = Optim(net, CrossEntropyLoss(), eps=1e-1)\n",
    "lossList = optimizer.SGD(X, y, batch_size, 10)\n",
    "print(lossList)\n",
    "pd.Series(lossList).plot()\n"
   ]
  }
 ],
 "metadata": {
  "kernelspec": {
   "display_name": "Python 3",
   "language": "python",
   "name": "python3"
  },
  "language_info": {
   "codemirror_mode": {
    "name": "ipython",
    "version": 3
   },
   "file_extension": ".py",
   "mimetype": "text/x-python",
   "name": "python",
   "nbconvert_exporter": "python",
   "pygments_lexer": "ipython3",
   "version": "3.10.10"
  },
  "orig_nbformat": 4
 },
 "nbformat": 4,
 "nbformat_minor": 2
}
