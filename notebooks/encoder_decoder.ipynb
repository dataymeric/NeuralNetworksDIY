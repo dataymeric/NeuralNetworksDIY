{
 "cells": [
  {
   "cell_type": "code",
   "execution_count": 2,
   "metadata": {},
   "outputs": [
    {
     "name": "stdout",
     "output_type": "stream",
     "text": [
      "/tempory/NeuralNetworksDIY\n"
     ]
    }
   ],
   "source": [
    "%cd ..\n"
   ]
  },
  {
   "cell_type": "code",
   "execution_count": 3,
   "metadata": {},
   "outputs": [
    {
     "name": "stderr",
     "output_type": "stream",
     "text": [
      "/tempory/NeuralNetworksDIY/src/encapsulation.py:2: TqdmExperimentalWarning: Using `tqdm.autonotebook.tqdm` in notebook mode. Use `tqdm.tqdm` instead to force console mode (e.g. in jupyter console)\n",
      "  from tqdm.autonotebook import tqdm, trange\n"
     ]
    }
   ],
   "source": [
    "import os, pickle\n",
    "from sklearn.datasets import load_digits\n",
    "from sklearn.preprocessing import OneHotEncoder\n",
    "from skimage import io, transform\n",
    "import numpy as np\n",
    "import pandas as pd\n",
    "import seaborn as sns\n",
    "import matplotlib.pyplot as plt\n",
    "from src.linear import Linear\n",
    "from src.loss import *\n",
    "from src.activation import TanH, Sigmoid, Softmax, ReLU, Softplus\n",
    "from src.encapsulation import Sequential, Optim\n",
    "\n",
    "np.random.seed(42)\n"
   ]
  },
  {
   "attachments": {},
   "cell_type": "markdown",
   "metadata": {},
   "source": [
    "jouer avec les hpyerparam\n",
    "espace latent\n",
    "les initialisation \n",
    "plein de loss \n",
    "qu'est ce qui boost les perfs "
   ]
  },
  {
   "attachments": {},
   "cell_type": "markdown",
   "metadata": {},
   "source": [
    "# Débruitage d'image plus petite"
   ]
  },
  {
   "attachments": {},
   "cell_type": "markdown",
   "metadata": {},
   "source": [
    "fashion mnist"
   ]
  },
  {
   "cell_type": "code",
   "execution_count": 4,
   "metadata": {},
   "outputs": [],
   "source": [
    "def load_data(rootdir, class_list=None, trim: float = 0.5):\n",
    "    def normalize_batch_image(X):\n",
    "        mn = np.min(X)\n",
    "        mx = np.max(X)\n",
    "        X_norm = (X - mn) * (1.0 / (mx - mn))\n",
    "        return X_norm\n",
    "\n",
    "    train = pd.read_csv(os.path.join(rootdir, \"fashion-mnist_train.csv\"))\n",
    "    # Filtering requested class\n",
    "    if class_list:\n",
    "        train = train[train[\"label\"].isin(class_list)]\n",
    "    y_train = train[\"label\"].values\n",
    "    X_train = train.drop(columns=\"label\").values\n",
    "\n",
    "    test = pd.read_csv(os.path.join(rootdir, \"fashion-mnist_test.csv\"))\n",
    "    # Filtering requested class\n",
    "    if class_list:\n",
    "        test = test[test[\"label\"].isin(class_list)]\n",
    "    y_test = test[\"label\"].values\n",
    "    X_test = test.drop(columns=\"label\").values\n",
    "\n",
    "    trim_train = int(len(X_train) * trim)\n",
    "    # trim_test = int(len(X_test) * trim)\n",
    "    trim_test = int(len(X_test))\n",
    "\n",
    "    # Normalization + trimming\n",
    "    X_train = normalize_batch_image(X_train[:trim_train, :])\n",
    "    X_test = normalize_batch_image(X_test[:trim_test, :])\n",
    "    y_train = y_train[:trim_train]\n",
    "    y_test = y_test[:trim_test]\n",
    "\n",
    "    return (X_train, X_test, y_train, y_test)\n",
    "\n",
    "\n",
    "rootdir = \"./data/fashion-mnist/\"\n",
    "X_train, X_test, y_train, y_test = load_data(rootdir, [0], trim=0.5)\n",
    "\n",
    "y_train_oh = OneHotEncoder().fit_transform(y_train.reshape(-1, 1)).toarray()\n",
    "y_test_oh = OneHotEncoder().fit_transform(y_test.reshape(-1, 1)).toarray()\n",
    "nb_class = y_train_oh.shape[1]\n",
    "batch_size = 64\n"
   ]
  },
  {
   "cell_type": "code",
   "execution_count": 5,
   "metadata": {},
   "outputs": [
    {
     "data": {
      "application/vnd.jupyter.widget-view+json": {
       "model_id": "5fb60c3e953f4835b425a962e8bd3002",
       "version_major": 2,
       "version_minor": 0
      },
      "text/plain": [
       "Epoch:   0%|          | 0/50 [00:00<?, ?it/s]"
      ]
     },
     "metadata": {},
     "output_type": "display_data"
    },
    {
     "data": {
      "application/vnd.jupyter.widget-view+json": {
       "model_id": "1d83d5ed7ee5402c92e91061b88a910a",
       "version_major": 2,
       "version_minor": 0
      },
      "text/plain": [
       "Batch:   0%|          | 0/2010 [00:00<?, ?it/s]"
      ]
     },
     "metadata": {},
     "output_type": "display_data"
    },
    {
     "ename": "KeyboardInterrupt",
     "evalue": "",
     "output_type": "error",
     "traceback": [
      "\u001b[0;31m---------------------------------------------------------------------------\u001b[0m",
      "\u001b[0;31mKeyboardInterrupt\u001b[0m                         Traceback (most recent call last)",
      "Cell \u001b[0;32mIn[5], line 10\u001b[0m\n\u001b[1;32m      8\u001b[0m net \u001b[39m=\u001b[39m Sequential(\u001b[39m*\u001b[39m(encoder \u001b[39m+\u001b[39m decoder))\n\u001b[1;32m      9\u001b[0m optimizer \u001b[39m=\u001b[39m Optim(net\u001b[39m.\u001b[39mreset(), MSELoss(), eps\u001b[39m=\u001b[39m\u001b[39m1e-3\u001b[39m)\n\u001b[0;32m---> 10\u001b[0m result_df \u001b[39m=\u001b[39m optimizer\u001b[39m.\u001b[39;49mSGD_eval(\n\u001b[1;32m     11\u001b[0m     X_train,\n\u001b[1;32m     12\u001b[0m     X_train,\n\u001b[1;32m     13\u001b[0m     batch_size,\n\u001b[1;32m     14\u001b[0m     \u001b[39m50\u001b[39;49m,\n\u001b[1;32m     15\u001b[0m     test_size\u001b[39m=\u001b[39;49m\u001b[39m0.33\u001b[39;49m,\n\u001b[1;32m     16\u001b[0m     return_dataframe\u001b[39m=\u001b[39;49m\u001b[39mTrue\u001b[39;49;00m,\n\u001b[1;32m     17\u001b[0m     \u001b[39m# fig=fig,\u001b[39;49;00m\n\u001b[1;32m     18\u001b[0m     ax\u001b[39m=\u001b[39;49max,\n\u001b[1;32m     19\u001b[0m )\n\u001b[1;32m     21\u001b[0m loss_long_df \u001b[39m=\u001b[39m pd\u001b[39m.\u001b[39mmelt(\n\u001b[1;32m     22\u001b[0m     result_df,\n\u001b[1;32m     23\u001b[0m     id_vars\u001b[39m=\u001b[39m\u001b[39m\"\u001b[39m\u001b[39mepoch\u001b[39m\u001b[39m\"\u001b[39m,\n\u001b[0;32m   (...)\u001b[0m\n\u001b[1;32m     26\u001b[0m     var_name\u001b[39m=\u001b[39m\u001b[39m\"\u001b[39m\u001b[39mduring\u001b[39m\u001b[39m\"\u001b[39m,\n\u001b[1;32m     27\u001b[0m )\u001b[39m.\u001b[39mreplace({\u001b[39m\"\u001b[39m\u001b[39mloss_test\u001b[39m\u001b[39m\"\u001b[39m: \u001b[39m\"\u001b[39m\u001b[39mtest\u001b[39m\u001b[39m\"\u001b[39m, \u001b[39m\"\u001b[39m\u001b[39mloss_train\u001b[39m\u001b[39m\"\u001b[39m: \u001b[39m\"\u001b[39m\u001b[39mtrain\u001b[39m\u001b[39m\"\u001b[39m})\n\u001b[1;32m     28\u001b[0m sns\u001b[39m.\u001b[39mlineplot(data\u001b[39m=\u001b[39mloss_long_df, x\u001b[39m=\u001b[39m\u001b[39m\"\u001b[39m\u001b[39mepoch\u001b[39m\u001b[39m\"\u001b[39m, y\u001b[39m=\u001b[39m\u001b[39m\"\u001b[39m\u001b[39mloss\u001b[39m\u001b[39m\"\u001b[39m, hue\u001b[39m=\u001b[39m\u001b[39m\"\u001b[39m\u001b[39mduring\u001b[39m\u001b[39m\"\u001b[39m, ax\u001b[39m=\u001b[39max)\n",
      "File \u001b[0;32m/tempory/NeuralNetworksDIY/src/encapsulation.py:205\u001b[0m, in \u001b[0;36mOptim.SGD_eval\u001b[0;34m(self, X, y, batch_size, epochs, test_size, network, shuffle_train, shuffle_test, seed, return_dataframe, fig, ax)\u001b[0m\n\u001b[1;32m    203\u001b[0m batch_iter \u001b[39m=\u001b[39m \u001b[39mself\u001b[39m\u001b[39m.\u001b[39m_create_batches(X_train, y_train, shuffle_train, seed)\n\u001b[1;32m    204\u001b[0m \u001b[39mfor\u001b[39;00m X_i, y_i \u001b[39min\u001b[39;00m batch_iter:\n\u001b[0;32m--> 205\u001b[0m     loss_batch_vect \u001b[39m=\u001b[39m \u001b[39mself\u001b[39;49m\u001b[39m.\u001b[39;49mstep(X_i, y_i)\u001b[39m.\u001b[39msum()\n\u001b[1;32m    206\u001b[0m     loss_sum \u001b[39m+\u001b[39m\u001b[39m=\u001b[39m loss_batch_vect\n\u001b[1;32m    207\u001b[0m     batch_progress\u001b[39m.\u001b[39mupdate()\n",
      "File \u001b[0;32m/tempory/NeuralNetworksDIY/src/encapsulation.py:127\u001b[0m, in \u001b[0;36mOptim.step\u001b[0;34m(self, batch_x, batch_y)\u001b[0m\n\u001b[1;32m    125\u001b[0m loss_delta \u001b[39m=\u001b[39m \u001b[39mself\u001b[39m\u001b[39m.\u001b[39mloss\u001b[39m.\u001b[39mbackward(batch_y, y_hat)\n\u001b[1;32m    126\u001b[0m \u001b[39mself\u001b[39m\u001b[39m.\u001b[39mnetwork\u001b[39m.\u001b[39mzero_grad()\n\u001b[0;32m--> 127\u001b[0m \u001b[39mself\u001b[39;49m\u001b[39m.\u001b[39;49mnetwork\u001b[39m.\u001b[39;49mbackward(batch_x, loss_delta)\n\u001b[1;32m    128\u001b[0m \u001b[39mself\u001b[39m\u001b[39m.\u001b[39mnetwork\u001b[39m.\u001b[39mupdate_parameters(\u001b[39mself\u001b[39m\u001b[39m.\u001b[39meps)\n\u001b[1;32m    130\u001b[0m \u001b[39mreturn\u001b[39;00m loss_value\n",
      "File \u001b[0;32m/tempory/NeuralNetworksDIY/src/encapsulation.py:64\u001b[0m, in \u001b[0;36mSequential.backward\u001b[0;34m(self, input, delta)\u001b[0m\n\u001b[1;32m     57\u001b[0m     module\u001b[39m.\u001b[39mbackward_update_gradient(\u001b[39mself\u001b[39m\u001b[39m.\u001b[39minputs[i \u001b[39m+\u001b[39m \u001b[39m1\u001b[39m], delta)\n\u001b[1;32m     59\u001b[0m     \u001b[39m# if hasattr(module, \"_parameters\") and \"weight\" in module._parameters:\u001b[39;00m\n\u001b[1;32m     60\u001b[0m     \u001b[39m# print(f\"\\tParamètres {module._parameters['weight']}\")\u001b[39;00m\n\u001b[1;32m     61\u001b[0m     \u001b[39m# if hasattr(module, \"_gradient\") and \"weight\" in module._gradient:\u001b[39;00m\n\u001b[1;32m     62\u001b[0m     \u001b[39m# print(f\"\\tGradient {module._gradient['weight']}\")\u001b[39;00m\n\u001b[0;32m---> 64\u001b[0m     delta \u001b[39m=\u001b[39m module\u001b[39m.\u001b[39;49mbackward_delta(\u001b[39mself\u001b[39;49m\u001b[39m.\u001b[39;49minputs[i \u001b[39m+\u001b[39;49m \u001b[39m1\u001b[39;49m], delta)\n\u001b[1;32m     66\u001b[0m     \u001b[39m# print(f\"[{module.__class__.__name__}] ✅ Backward done!\")\u001b[39;00m\n\u001b[1;32m     68\u001b[0m \u001b[39mreturn\u001b[39;00m delta\n",
      "File \u001b[0;32m/tempory/NeuralNetworksDIY/src/linear.py:119\u001b[0m, in \u001b[0;36mLinear.backward_delta\u001b[0;34m(self, input, delta)\u001b[0m\n\u001b[1;32m    116\u001b[0m \u001b[39massert\u001b[39;00m delta\u001b[39m.\u001b[39mshape[\u001b[39m1\u001b[39m] \u001b[39m==\u001b[39m \u001b[39mself\u001b[39m\u001b[39m.\u001b[39moutput_size\n\u001b[1;32m    118\u001b[0m \u001b[39m# delta : ndarray (output_size, input_size)\u001b[39;00m\n\u001b[0;32m--> 119\u001b[0m \u001b[39mself\u001b[39m\u001b[39m.\u001b[39md_out \u001b[39m=\u001b[39m delta \u001b[39m@\u001b[39;49m \u001b[39mself\u001b[39;49m\u001b[39m.\u001b[39;49m_parameters[\u001b[39m\"\u001b[39;49m\u001b[39mweight\u001b[39;49m\u001b[39m\"\u001b[39;49m]\u001b[39m.\u001b[39;49mT\n\u001b[1;32m    120\u001b[0m \u001b[39mreturn\u001b[39;00m \u001b[39mself\u001b[39m\u001b[39m.\u001b[39md_out\n",
      "\u001b[0;31mKeyboardInterrupt\u001b[0m: "
     ]
    },
    {
     "data": {
      "image/png": "[encoded data removed]",
      "text/plain": [
       "<Figure size 640x480 with 1 Axes>"
      ]
     },
     "metadata": {},
     "output_type": "display_data"
    }
   ],
   "source": [
    "fig, ax = plt.subplots()\n",
    "\n",
    "encoder = [\n",
    "    Linear(784, 64, init_type=\"xavier_uniform\"),\n",
    "    TanH(),\n",
    "]\n",
    "decoder = [Linear(64, 784, init_type=\"xavier_uniform\"), Sigmoid()]\n",
    "net = Sequential(*(encoder + decoder))\n",
    "optimizer = Optim(net.reset(), MSELoss(), eps=1e-3)\n",
    "result_df = optimizer.SGD_eval(\n",
    "    X_train,\n",
    "    X_train,\n",
    "    batch_size,\n",
    "    50,\n",
    "    test_size=0.33,\n",
    "    return_dataframe=True,\n",
    "    # fig=fig,\n",
    "    ax=ax,\n",
    ")\n",
    "\n",
    "loss_long_df = pd.melt(\n",
    "    result_df,\n",
    "    id_vars=\"epoch\",\n",
    "    value_vars=[\"loss_test\", \"loss_train\"],\n",
    "    value_name=\"loss\",\n",
    "    var_name=\"during\",\n",
    ").replace({\"loss_test\": \"test\", \"loss_train\": \"train\"})\n",
    "sns.lineplot(data=loss_long_df, x=\"epoch\", y=\"loss\", hue=\"during\", ax=ax)\n",
    "\n",
    "n = 10\n",
    "decoded_imgs = net.forward(X_test)\n",
    "plt.figure(figsize=(20, 4))\n",
    "for i in range(n):\n",
    "    # display original\n",
    "    ax = plt.subplot(2, n, i + 1)\n",
    "    plt.imshow(X_test[i].reshape(28, 28))\n",
    "    plt.title(\"original\")\n",
    "    plt.gray()\n",
    "    ax.get_xaxis().set_visible(False)\n",
    "    ax.get_yaxis().set_visible(False)\n",
    "\n",
    "    # display reconstruction\n",
    "    ax = plt.subplot(2, n, i + 1 + n)\n",
    "    plt.imshow(decoded_imgs[i].reshape(28, 28))\n",
    "    plt.title(\"reconstructed\")\n",
    "    plt.gray()\n",
    "    ax.get_xaxis().set_visible(False)\n",
    "    ax.get_yaxis().set_visible(False)\n",
    "plt.show()\n"
   ]
  },
  {
   "cell_type": "code",
   "execution_count": null,
   "metadata": {},
   "outputs": [],
   "source": [
    "# encoder = Sequential(*[\n",
    "#     Linear(784, 64, init_type=\"xavier_uniform\"),\n",
    "#     TanH(),\n",
    "# ])\n",
    "# decoder = Sequential(*[Linear(64, 784, init_type=\"xavier_uniform\"), Sigmoid()])\n",
    "\n",
    "# class AutoEncoder(Sequential):\n",
    "#     def __init__(self, encoder: Sequential, decoder: Sequential):\n",
    "#         super().__init__( *(encoder.modules + decoder.modules))\n",
    "#         self.encoder = encoder\n",
    "#         self.decoder = decoder\n",
    "\n",
    "#     def forward(self, X):\n",
    "#         self.decoder.forward(self.encoder.forward(X))\n",
    "#         self.inputs = self.encoder.inputs + self.decoder.inputs\n",
    "#         return self.inputs[-1]\n",
    "\n",
    "#     def backward(self, X, delta):\n",
    "#         delta = self.encoder.backward(X, delta)\n",
    "#         encoder_input = self.encoder.inputs[-1]\n",
    "#         delta = self.decoder.backward(encoder_input, delta)\n",
    "#         return delta\n",
    "\n",
    "#     def update_parameters(self, eps=1e-3):\n",
    "#         self.encoder.update_parameters(eps)\n",
    "#         self.decoder.update_parameters(eps)\n",
    "\n",
    "# autoencoder = AutoEncoder(encoder, decoder)\n",
    "\n",
    "# optimizer = Optim(autoencoder.reset(), MSELoss(), eps=1e-3)\n",
    "# optimizer.SGD_eval(\n",
    "#     X_train,\n",
    "#     X_train,\n",
    "#     batch_size,\n",
    "#     5,\n",
    "#     test_size=0.33,\n",
    "#     return_dataframe=True,\n",
    "#     fig=fig,\n",
    "#     ax=ax,\n",
    "# )\n"
   ]
  },
  {
   "cell_type": "code",
   "execution_count": 5,
   "metadata": {},
   "outputs": [
    {
     "data": {
      "application/vnd.jupyter.widget-view+json": {
       "model_id": "878da526af6344c1b011a6b958da71fd",
       "version_major": 2,
       "version_minor": 0
      },
      "text/plain": [
       "  0%|          | 0/20 [00:00<?, ?it/s]"
      ]
     },
     "metadata": {},
     "output_type": "display_data"
    },
    {
     "data": {
      "application/vnd.jupyter.widget-view+json": {
       "model_id": "1c3f8bca8e51444db6630824221df618",
       "version_major": 2,
       "version_minor": 0
      },
      "text/plain": [
       "  0%|          | 0/20 [00:00<?, ?it/s]"
      ]
     },
     "metadata": {},
     "output_type": "display_data"
    },
    {
     "data": {
      "application/vnd.jupyter.widget-view+json": {
       "model_id": "621cbee1a90f4b5fb90b92116fc4470f",
       "version_major": 2,
       "version_minor": 0
      },
      "text/plain": [
       "  0%|          | 0/20 [00:00<?, ?it/s]"
      ]
     },
     "metadata": {},
     "output_type": "display_data"
    },
    {
     "data": {
      "application/vnd.jupyter.widget-view+json": {
       "model_id": "e8e77ac5325845eb962dd57a8f842fbe",
       "version_major": 2,
       "version_minor": 0
      },
      "text/plain": [
       "  0%|          | 0/20 [00:00<?, ?it/s]"
      ]
     },
     "metadata": {},
     "output_type": "display_data"
    },
    {
     "data": {
      "application/vnd.jupyter.widget-view+json": {
       "model_id": "6fe113770e424c228519edf3989da089",
       "version_major": 2,
       "version_minor": 0
      },
      "text/plain": [
       "  0%|          | 0/20 [00:00<?, ?it/s]"
      ]
     },
     "metadata": {},
     "output_type": "display_data"
    },
    {
     "data": {
      "application/vnd.jupyter.widget-view+json": {
       "model_id": "1fd3584e79634d67ac281d16d5bcbb62",
       "version_major": 2,
       "version_minor": 0
      },
      "text/plain": [
       "  0%|          | 0/20 [00:00<?, ?it/s]"
      ]
     },
     "metadata": {},
     "output_type": "display_data"
    },
    {
     "data": {
      "application/vnd.jupyter.widget-view+json": {
       "model_id": "f0794f7df1eb42fc8da7c3435cda9377",
       "version_major": 2,
       "version_minor": 0
      },
      "text/plain": [
       "  0%|          | 0/20 [00:00<?, ?it/s]"
      ]
     },
     "metadata": {},
     "output_type": "display_data"
    },
    {
     "data": {
      "application/vnd.jupyter.widget-view+json": {
       "model_id": "56e8c03b2d734a8c864a4ff6c89934f6",
       "version_major": 2,
       "version_minor": 0
      },
      "text/plain": [
       "  0%|          | 0/20 [00:00<?, ?it/s]"
      ]
     },
     "metadata": {},
     "output_type": "display_data"
    },
    {
     "data": {
      "application/vnd.jupyter.widget-view+json": {
       "model_id": "209c455d209648318c224eb8463cd4bb",
       "version_major": 2,
       "version_minor": 0
      },
      "text/plain": [
       "  0%|          | 0/20 [00:00<?, ?it/s]"
      ]
     },
     "metadata": {},
     "output_type": "display_data"
    },
    {
     "data": {
      "application/vnd.jupyter.widget-view+json": {
       "model_id": "a86411668d7348bea4be7220baf6c24d",
       "version_major": 2,
       "version_minor": 0
      },
      "text/plain": [
       "  0%|          | 0/20 [00:00<?, ?it/s]"
      ]
     },
     "metadata": {},
     "output_type": "display_data"
    },
    {
     "data": {
      "image/png": "[encoded data removed]",
      "text/plain": [
       "<Figure size 2000x400 with 20 Axes>"
      ]
     },
     "metadata": {},
     "output_type": "display_data"
    }
   ],
   "source": [
    "plt.figure(figsize=(20, 4))\n",
    "optimizer.network.reset()\n",
    "n = 10\n",
    "for i in range(n):\n",
    "    optimizer.SGD(\n",
    "        X_train,\n",
    "        X_train,\n",
    "        batch_size,\n",
    "        20,\n",
    "    )\n",
    "    decoded_imgs = optimizer.network.forward(X_test)\n",
    "\n",
    "    # display original\n",
    "    ax = plt.subplot(2, n, i + 1)\n",
    "    plt.imshow(X_test[4].reshape(28, 28))\n",
    "    plt.title(f\"epoch {(i+1)*20}\")\n",
    "    plt.gray()\n",
    "    ax.get_xaxis().set_visible(False)\n",
    "    ax.get_yaxis().set_visible(False)\n",
    "\n",
    "    # display reconstruction\n",
    "    ax = plt.subplot(2, n, i + 1 + n)\n",
    "    plt.imshow(decoded_imgs[4].reshape(28, 28))\n",
    "    plt.gray()\n",
    "    ax.get_xaxis().set_visible(False)\n",
    "    ax.get_yaxis().set_visible(False)\n",
    "plt.show()\n"
   ]
  },
  {
   "cell_type": "markdown",
   "metadata": {},
   "source": []
  },
  {
   "cell_type": "code",
   "execution_count": 19,
   "metadata": {},
   "outputs": [
    {
     "data": {
      "image/png": "[encoded data removed]",
      "text/plain": [
       "<Figure size 2000x400 with 20 Axes>"
      ]
     },
     "metadata": {},
     "output_type": "display_data"
    }
   ],
   "source": [
    "X_train, X_test, y_train, y_test = load_data(rootdir, trim=0.5)\n",
    "optimizer = Optim(net.reset(), MSELoss(), eps=1e-3)\n",
    "optimizer.network.reset()\n",
    "optimizer.SGD(\n",
    "    X_train,\n",
    "    X_train,\n",
    "    batch_size,\n",
    "    1000,\n",
    ")\n",
    "\n",
    "n = 10\n",
    "decoded_imgs = net.forward(X_test)\n",
    "plt.figure(figsize=(20, 4))\n",
    "for i in range(n):\n",
    "    # display original\n",
    "    ax = plt.subplot(2, n, i + 1)\n",
    "    plt.imshow(X_test[i].reshape(28, 28))\n",
    "    plt.title(\"original\")\n",
    "    plt.gray()\n",
    "    ax.get_xaxis().set_visible(False)\n",
    "    ax.get_yaxis().set_visible(False)\n",
    "\n",
    "    # display reconstruction\n",
    "    ax = plt.subplot(2, n, i + 1 + n)\n",
    "    plt.imshow(decoded_imgs[i].reshape(28, 28))\n",
    "    plt.title(\"reconstructed\")\n",
    "    plt.gray()\n",
    "    ax.get_xaxis().set_visible(False)\n",
    "    ax.get_yaxis().set_visible(False)\n",
    "plt.show()\n"
   ]
  },
  {
   "cell_type": "code",
   "execution_count": 14,
   "metadata": {},
   "outputs": [],
   "source": [
    "with open('./notebooks/fashion-mnist_1000_epoch.pkl', 'wb') as f:\n",
    "    pickle.dump(optimizer.network, f)"
   ]
  },
  {
   "cell_type": "code",
   "execution_count": 16,
   "metadata": {},
   "outputs": [],
   "source": [
    "with open('./notebooks/fashion-mnist_1000_epoch.pkl', 'rb') as f:\n",
    "    test = pickle.load(f)"
   ]
  },
  {
   "cell_type": "code",
   "execution_count": 17,
   "metadata": {},
   "outputs": [
    {
     "data": {
      "text/plain": [
       "<src.encapsulation.Sequential at 0x7f02f46c20a0>"
      ]
     },
     "execution_count": 17,
     "metadata": {},
     "output_type": "execute_result"
    }
   ],
   "source": [
    "test"
   ]
  },
  {
   "attachments": {},
   "cell_type": "markdown",
   "metadata": {},
   "source": [
    "# Débruitage d'image"
   ]
  },
  {
   "attachments": {},
   "cell_type": "markdown",
   "metadata": {},
   "source": [
    "Dataset : https://www.kaggle.com/datasets/uurdeep/cleaning-dirty-documents-unzipped"
   ]
  },
  {
   "cell_type": "code",
   "execution_count": null,
   "metadata": {},
   "outputs": [],
   "source": [
    "def load_data(root_dir):\n",
    "    size = (540, 420)\n",
    "    X = []\n",
    "    for filepath in os.listdir(root_dir + \"/X\"):\n",
    "        imgpath = os.path.join(root_dir, \"X\", filepath)\n",
    "        image = io.imread(imgpath)\n",
    "        image = transform.resize(image, size).flatten()\n",
    "        X.append(image)\n",
    "    X = np.array(X)\n",
    "\n",
    "    y = []\n",
    "    for filepath in os.listdir(root_dir + \"/y\"):\n",
    "        imgpath = os.path.join(root_dir, \"y\", filepath)\n",
    "        image = io.imread(imgpath)\n",
    "        image = transform.resize(image, size).flatten()\n",
    "        y.append(image)\n",
    "    y = np.array(y)\n",
    "\n",
    "    return X, y\n",
    "\n",
    "\n",
    "X, y = load_data(\"./data/dirty_documents\")\n",
    "print(X.shape)\n",
    "print(y.shape)\n"
   ]
  },
  {
   "cell_type": "code",
   "execution_count": null,
   "metadata": {},
   "outputs": [],
   "source": [
    "from src.convolution import *\n",
    "\n",
    "encoder = [Conv1D(3, 1, 16, stride=2), ReLU(), Conv1D(3, 1, 8, stride=2), ReLU()]\n",
    "\n",
    "decoder = [\n",
    "    Conv1D(3, 1, 8, stride=2),\n",
    "    ReLU(),\n",
    "    Conv1D(3, 1, 16, 2),\n",
    "    ReLU(),\n",
    "    Conv1D(3, 1, 1),\n",
    "    Sigmoid(),\n",
    "]\n",
    "\n",
    "\n",
    "net = Sequential(*(encoder + decoder))\n",
    "optimizer = Optim(net, MSELoss(), eps=1e-1)\n",
    "lossList = optimizer.SGD(X[:, :, np.newaxis], y, 144, 10)\n",
    "print(lossList)\n",
    "pd.Series(lossList).plot()\n"
   ]
  },
  {
   "cell_type": "code",
   "execution_count": null,
   "metadata": {},
   "outputs": [],
   "source": []
  },
  {
   "cell_type": "code",
   "execution_count": null,
   "metadata": {},
   "outputs": [],
   "source": [
    "batch_size = 32\n",
    "d = 2  # Dim des entrées\n",
    "\n",
    "X = np.random.random(size=(256, d))\n",
    "y = np.random.choice([1], size=(256, 1))\n",
    "\n",
    "encoder = [\n",
    "    Linear(226800, 226800 // 8),\n",
    "    TanH(),\n",
    "    Linear(226800 // 8, 226800 / 16),\n",
    "    TanH(),\n",
    "    Linear(226800 / 16, 226800 / 32),\n",
    "    TanH(),\n",
    "]\n",
    "decoder = [\n",
    "    Linear(226800 / 16, 226800 / 32),\n",
    "    TanH(),\n",
    "    Linear(226800 / 8, 226800 / 16),\n",
    "    TanH(),\n",
    "    Linear(226800, 226800 / 8),\n",
    "    Sigmoid(),\n",
    "]\n",
    "net = encoder + decoder\n",
    "optimizer = Optim(net, CrossEntropyLoss(), eps=1e-1)\n",
    "lossList = optimizer.SGD(X, y, batch_size, 10)\n",
    "print(lossList)\n",
    "pd.Series(lossList).plot()\n"
   ]
  },
  {
   "cell_type": "code",
   "execution_count": null,
   "metadata": {},
   "outputs": [],
   "source": [
    "X.shape\n"
   ]
  },
  {
   "attachments": {},
   "cell_type": "markdown",
   "metadata": {},
   "source": [
    "**A faire avec une convolution**"
   ]
  }
 ],
 "metadata": {
  "kernelspec": {
   "display_name": "Python 3",
   "language": "python",
   "name": "python3"
  },
  "language_info": {
   "codemirror_mode": {
    "name": "ipython",
    "version": 3
   },
   "file_extension": ".py",
   "mimetype": "text/x-python",
   "name": "python",
   "nbconvert_exporter": "python",
   "pygments_lexer": "ipython3",
   "version": "3.9.6"
  },
  "orig_nbformat": 4
 },
 "nbformat": 4,
 "nbformat_minor": 2
}
