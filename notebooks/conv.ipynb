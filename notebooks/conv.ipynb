{
 "cells": [
  {
   "cell_type": "code",
   "execution_count": 1,
   "metadata": {},
   "outputs": [
    {
     "name": "stdout",
     "output_type": "stream",
     "text": [
      "d:\\~Perso\\Etudes\\DAC\\NeuralNetworksDIY\n"
     ]
    }
   ],
   "source": [
    "%cd .."
   ]
  },
  {
   "cell_type": "code",
   "execution_count": 2,
   "metadata": {},
   "outputs": [],
   "source": [
    "import numpy as np\n",
    "from src.convolution import *\n",
    "from utils.mltools import *\n",
    "\n",
    "\n",
    "def load_usps(fn):\n",
    "    with open(fn, \"r\") as f:\n",
    "        f.readline()\n",
    "        data = [[float(X) for X in l.split()] for l in f if len(l.split()) > 2]\n",
    "    tmp = np.array(data)\n",
    "    return tmp[:, 1:], tmp[:, 0].astype(int)\n",
    "\n",
    "\n",
    "def get_usps(l, X, y):\n",
    "    if type(l) != list:\n",
    "        resx = X[y == l, :]\n",
    "        resy = y[y == l]\n",
    "        return resx, resy\n",
    "    tmp = list(zip(*[get_usps(i, X, y) for i in l]))\n",
    "    tmpx, tmpy = np.vstack(tmp[0]), np.hstack(tmp[1])\n",
    "    return tmpx, tmpy\n",
    "\n",
    "\n",
    "alltrainx, alltrainy = load_usps(\"data/USPS_train.txt\")\n",
    "alltestx, alltesty = load_usps(\"data/USPS_test.txt\")\n",
    "\n",
    "\n",
    "def load_one_class(number):\n",
    "    X_train, y_train = get_usps(number, alltrainx, alltrainy)\n",
    "    X_test, y_test = get_usps(number, alltestx, alltesty)\n",
    "    y_train = np.where(y_train == number, -1, 1).reshape(-1, 1)\n",
    "    y_test = np.where(y_test == number, -1, 1).reshape(-1, 1)\n",
    "    return X_train, y_train, X_test, y_test\n",
    "\n",
    "\n",
    "def load_two_classes(neg, pos):\n",
    "    X_train, y_train = get_usps([neg, pos], alltrainx, alltrainy)\n",
    "    X_test, y_test = get_usps([neg, pos], alltestx, alltesty)\n",
    "    y_train = np.where(y_train == neg, -1, 1).reshape(-1, 1)\n",
    "    y_test = np.where(y_test == neg, -1, 1).reshape(-1, 1)\n",
    "    return X_train, y_train, X_test, y_test\n"
   ]
  },
  {
   "cell_type": "code",
   "execution_count": 3,
   "metadata": {},
   "outputs": [],
   "source": [
    "import os\n",
    "import pandas as pd\n",
    "from skimage import io, transform\n",
    "from PIL import Image\n",
    "\n",
    "\n",
    "def load_data(root_dir):\n",
    "    size = (540, 420)\n",
    "    X = []\n",
    "    for filepath in os.listdir(root_dir + \"/X\"):\n",
    "        imgpath = os.path.join(root_dir, \"X\", filepath)\n",
    "        image = io.imread(imgpath)\n",
    "        image = transform.resize(image, size)\n",
    "        X.append(image)\n",
    "    X = np.array(X)\n",
    "\n",
    "    y = []\n",
    "    for filepath in os.listdir(root_dir + \"/y\"):\n",
    "        imgpath = os.path.join(root_dir, \"y\", filepath)\n",
    "        image = io.imread(imgpath)\n",
    "        image = transform.resize(image, size)\n",
    "        y.append(image)\n",
    "    y = np.array(y)\n",
    "\n",
    "    return X, y\n",
    "\n",
    "\n",
    "X, y = load_data(\"./data/dirty_documents\")\n"
   ]
  },
  {
   "cell_type": "code",
   "execution_count": 4,
   "metadata": {},
   "outputs": [
    {
     "data": {
      "text/plain": [
       "(144, 1, 540, 420)"
      ]
     },
     "execution_count": 4,
     "metadata": {},
     "output_type": "execute_result"
    }
   ],
   "source": [
    "X[:, np.newaxis, :, :].shape\n"
   ]
  },
  {
   "cell_type": "code",
   "execution_count": 5,
   "metadata": {},
   "outputs": [
    {
     "data": {
      "text/plain": [
       "(144, 540, 420, 1)"
      ]
     },
     "execution_count": 5,
     "metadata": {},
     "output_type": "execute_result"
    }
   ],
   "source": [
    "X[:, :, :, np.newaxis].shape\n"
   ]
  },
  {
   "attachments": {},
   "cell_type": "markdown",
   "metadata": {},
   "source": [
    "## Vectorisation\n"
   ]
  },
  {
   "cell_type": "code",
   "execution_count": 14,
   "metadata": {},
   "outputs": [
    {
     "name": "stdout",
     "output_type": "stream",
     "text": [
      "[[[[ 0  1  2  3]\n",
      "   [ 5  6  7  8]\n",
      "   [10 11 12 13]\n",
      "   [15 16 17 18]]\n",
      "\n",
      "  [[ 1  2  3  4]\n",
      "   [ 6  7  8  9]\n",
      "   [11 12 13 14]\n",
      "   [16 17 18 19]]]\n",
      "\n",
      "\n",
      " [[[ 5  6  7  8]\n",
      "   [10 11 12 13]\n",
      "   [15 16 17 18]\n",
      "   [20 21 22 23]]\n",
      "\n",
      "  [[ 6  7  8  9]\n",
      "   [11 12 13 14]\n",
      "   [16 17 18 19]\n",
      "   [21 22 23 24]]]] \n",
      "Shape: (2, 2, 4, 4), \tStrides: (20, 4, 20, 4)\n"
     ]
    }
   ],
   "source": [
    "input = np.arange(25).reshape(5, 5)\n",
    "\n",
    "kernel_size = 4\n",
    "layer_stride = 1\n",
    "\n",
    "height, width = input.shape\n",
    "rows_stride, columns_strides = input.strides\n",
    "\n",
    "out_height = int((height - kernel_size) / layer_stride + 1)\n",
    "out_width = int((width - kernel_size) / layer_stride + 1)\n",
    "\n",
    "new_shape = (out_height, out_width, kernel_size, kernel_size)\n",
    "new_strides = (\n",
    "    rows_stride * layer_stride,\n",
    "    columns_strides * layer_stride,\n",
    "    rows_stride,\n",
    "    columns_strides,\n",
    ")\n",
    "\n",
    "windowed_input = np.lib.stride_tricks.as_strided(input, new_shape, new_strides)\n",
    "print(\n",
    "    windowed_input,\n",
    "    f\"\\nShape: {windowed_input.shape}, \\tStrides: {windowed_input.strides}\",\n",
    ")\n"
   ]
  },
  {
   "cell_type": "code",
   "execution_count": 15,
   "metadata": {},
   "outputs": [
    {
     "name": "stdout",
     "output_type": "stream",
     "text": [
      "[[0 1]\n",
      " [3 4]] \n",
      "Shape: (2, 2), \tStrides: (12, 4)\n"
     ]
    }
   ],
   "source": [
    "input = np.arange(5)\n",
    "\n",
    "kernel_size = 2\n",
    "layer_stride = 3\n",
    "\n",
    "length = input.shape[0]\n",
    "rows_stride = input.strides[0]\n",
    "\n",
    "out_height = int((length - kernel_size) / layer_stride + 1)\n",
    "\n",
    "new_shape = (\n",
    "    out_height,\n",
    "    kernel_size,\n",
    ")\n",
    "new_strides = (\n",
    "    rows_stride * layer_stride,\n",
    "    rows_stride,\n",
    ")\n",
    "\n",
    "windowed_input = np.lib.stride_tricks.as_strided(input, new_shape, new_strides)\n",
    "print(\n",
    "    windowed_input,\n",
    "    f\"\\nShape: {windowed_input.shape}, \\tStrides: {windowed_input.strides}\",\n",
    ")\n"
   ]
  },
  {
   "attachments": {},
   "cell_type": "markdown",
   "metadata": {},
   "source": [
    "## Vérif Conv\n"
   ]
  },
  {
   "cell_type": "code",
   "execution_count": 29,
   "metadata": {},
   "outputs": [],
   "source": [
    "import torch\n",
    "import torch.nn as nn\n",
    "\n",
    "convtest = nn.Conv2d(1, 3, 4, stride=1, bias=False)\n",
    "A = torch.from_numpy(X[:, np.newaxis, :, :])\n",
    "convtest(A.float()).shape\n"
   ]
  },
  {
   "cell_type": "code",
   "execution_count": null,
   "metadata": {},
   "outputs": [],
   "source": [
    "c2d = Conv2D(1, 3, 2)\n",
    "out = c2d.forward(X[:, np.newaxis, :, :])\n",
    "out.shape\n"
   ]
  }
 ],
 "metadata": {
  "kernelspec": {
   "display_name": "Python 3",
   "language": "python",
   "name": "python3"
  },
  "language_info": {
   "codemirror_mode": {
    "name": "ipython",
    "version": 3
   },
   "file_extension": ".py",
   "mimetype": "text/x-python",
   "name": "python",
   "nbconvert_exporter": "python",
   "pygments_lexer": "ipython3",
   "version": "3.9.13"
  },
  "orig_nbformat": 4
 },
 "nbformat": 4,
 "nbformat_minor": 2
}
