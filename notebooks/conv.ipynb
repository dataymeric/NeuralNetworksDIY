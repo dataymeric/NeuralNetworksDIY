{
 "cells": [
  {
   "cell_type": "code",
   "execution_count": 1,
   "metadata": {},
   "outputs": [
    {
     "name": "stdout",
     "output_type": "stream",
     "text": [
      "d:\\~Perso\\Etudes\\DAC\\NeuralNetworksDIY\n"
     ]
    }
   ],
   "source": [
    "%cd ..\n",
    "\n",
    "import numpy as np\n",
    "import pandas as pd\n",
    "from src.convolution import *\n",
    "from src.linear import *\n",
    "from src.loss import *\n",
    "from src.activation import *\n",
    "from src.encapsulation import *\n",
    "from utils.mltools import *\n",
    "\n",
    "\n",
    "def load_usps(fn):\n",
    "    with open(fn, \"r\") as f:\n",
    "        f.readline()\n",
    "        data = [[float(X) for X in l.split()] for l in f if len(l.split()) > 2]\n",
    "    tmp = np.array(data)\n",
    "    return tmp[:, 1:], tmp[:, 0].astype(int)\n",
    "\n",
    "\n",
    "def get_usps(l, X, y):\n",
    "    if type(l) != list:\n",
    "        resx = X[y == l, :]\n",
    "        resy = y[y == l]\n",
    "        return resx, resy\n",
    "    tmp = list(zip(*[get_usps(i, X, y) for i in l]))\n",
    "    tmpx, tmpy = np.vstack(tmp[0]), np.hstack(tmp[1])\n",
    "    return tmpx, tmpy\n",
    "\n",
    "\n",
    "alltrainx, alltrainy = load_usps(\"data/USPS_train.txt\")\n",
    "alltestx, alltesty = load_usps(\"data/USPS_test.txt\")\n",
    "\n",
    "\n",
    "def load_one_class(number):\n",
    "    X_train, y_train = get_usps(number, alltrainx, alltrainy)\n",
    "    X_test, y_test = get_usps(number, alltestx, alltesty)\n",
    "    y_train = np.where(y_train == number, -1, 1).reshape(-1, 1)\n",
    "    y_test = np.where(y_test == number, -1, 1).reshape(-1, 1)\n",
    "    return X_train, y_train, X_test, y_test\n",
    "\n",
    "\n",
    "def load_two_classes(neg, pos):\n",
    "    X_train, y_train = get_usps([neg, pos], alltrainx, alltrainy)\n",
    "    X_test, y_test = get_usps([neg, pos], alltestx, alltesty)\n",
    "    y_train = np.where(y_train == neg, -1, 1).reshape(-1, 1)\n",
    "    y_test = np.where(y_test == neg, -1, 1).reshape(-1, 1)\n",
    "    return X_train, y_train, X_test, y_test\n"
   ]
  },
  {
   "cell_type": "code",
   "execution_count": null,
   "metadata": {},
   "outputs": [],
   "source": [
    "import os\n",
    "import pandas as pd\n",
    "from skimage import io, transform\n",
    "from PIL import Image\n",
    "\n",
    "\n",
    "def load_data(root_dir):\n",
    "    size = (540, 420)\n",
    "    X = []\n",
    "    for filepath in os.listdir(root_dir + \"/X\"):\n",
    "        imgpath = os.path.join(root_dir, \"X\", filepath)\n",
    "        image = io.imread(imgpath)\n",
    "        image = transform.resize(image, size)\n",
    "        X.append(image)\n",
    "    X = np.array(X)\n",
    "\n",
    "    y = []\n",
    "    for filepath in os.listdir(root_dir + \"/y\"):\n",
    "        imgpath = os.path.join(root_dir, \"y\", filepath)\n",
    "        image = io.imread(imgpath)\n",
    "        image = transform.resize(image, size)\n",
    "        y.append(image)\n",
    "    y = np.array(y)\n",
    "\n",
    "    return X, y\n",
    "\n",
    "\n",
    "X, y = load_data(\"./data/dirty_documents\")\n"
   ]
  },
  {
   "cell_type": "code",
   "execution_count": null,
   "metadata": {},
   "outputs": [
    {
     "data": {
      "text/plain": [
       "(144, 1, 540, 420)"
      ]
     },
     "execution_count": 3,
     "metadata": {},
     "output_type": "execute_result"
    }
   ],
   "source": [
    "X[:, np.newaxis, :, :].shape\n"
   ]
  },
  {
   "cell_type": "code",
   "execution_count": null,
   "metadata": {},
   "outputs": [
    {
     "data": {
      "text/plain": [
       "(144, 540, 420, 1)"
      ]
     },
     "execution_count": 4,
     "metadata": {},
     "output_type": "execute_result"
    }
   ],
   "source": [
    "X[:, :, :, np.newaxis].shape\n"
   ]
  },
  {
   "cell_type": "code",
   "execution_count": 2,
   "metadata": {},
   "outputs": [
    {
     "data": {
      "text/plain": [
       "(7291, 10)"
      ]
     },
     "execution_count": 2,
     "metadata": {},
     "output_type": "execute_result"
    }
   ],
   "source": [
    "from sklearn.preprocessing import OneHotEncoder, StandardScaler\n",
    "\n",
    "alltrainy = OneHotEncoder().fit_transform(alltrainy.reshape(-1, 1)).toarray()\n",
    "alltrainy.shape"
   ]
  },
  {
   "cell_type": "code",
   "execution_count": null,
   "metadata": {},
   "outputs": [],
   "source": [
    "net = Sequential(\n",
    "    Conv1D(3, 1, 32, 1, init_type=\"xavier_normal\"),\n",
    "    ReLU(),\n",
    "    MaxPool1D(2, 2),\n",
    "    Conv1D(3, 32, 32),\n",
    "    ReLU(),\n",
    "    MaxPool1D(2, 2),\n",
    "    Flatten(),\n",
    "    Linear(1984, 10),\n",
    ")\n",
    "optimizer = Optim(net, CrossEntropyLoss(), eps=0.001)\n",
    "lossList = optimizer.SGD(alltrainx[:,:,np.newaxis], alltrainy, 1000, 10)\n",
    "print(lossList)\n",
    "pd.Series(lossList).plot()\n"
   ]
  },
  {
   "cell_type": "code",
   "execution_count": 4,
   "metadata": {},
   "outputs": [
    {
     "name": "stderr",
     "output_type": "stream",
     "text": [
      "100%|██████████| 5/5 [01:35<00:00, 19.05s/it]\n"
     ]
    }
   ],
   "source": [
    "net = Sequential(\n",
    "    Conv1D(3, 1, 32, 1),\n",
    "    MaxPool1D(2, 2),\n",
    "    Flatten(),\n",
    "    Linear(4064, 100),\n",
    "    ReLU(),\n",
    "    Linear(100, 10),\n",
    ")\n",
    "optimizer = Optim(net, CrossEntropyLoss(), eps=0.001)\n",
    "result_df = optimizer.SGD_eval(alltrainx[:,:,np.newaxis], alltrainy, 1000, 5, test_size=0.33, return_dataframe=True)\n"
   ]
  },
  {
   "cell_type": "code",
   "execution_count": 5,
   "metadata": {},
   "outputs": [
    {
     "data": {
      "text/html": [
       "<div>\n",
       "<style scoped>\n",
       "    .dataframe tbody tr th:only-of-type {\n",
       "        vertical-align: middle;\n",
       "    }\n",
       "\n",
       "    .dataframe tbody tr th {\n",
       "        vertical-align: top;\n",
       "    }\n",
       "\n",
       "    .dataframe thead th {\n",
       "        text-align: right;\n",
       "    }\n",
       "</style>\n",
       "<table border=\"1\" class=\"dataframe\">\n",
       "  <thead>\n",
       "    <tr style=\"text-align: right;\">\n",
       "      <th></th>\n",
       "      <th>epoch</th>\n",
       "      <th>loss_test</th>\n",
       "      <th>loss_train</th>\n",
       "      <th>score_train</th>\n",
       "      <th>score_test</th>\n",
       "    </tr>\n",
       "  </thead>\n",
       "  <tbody>\n",
       "    <tr>\n",
       "      <th>0</th>\n",
       "      <td>0</td>\n",
       "      <td>NaN</td>\n",
       "      <td>NaN</td>\n",
       "      <td>0.160319</td>\n",
       "      <td>0.170752</td>\n",
       "    </tr>\n",
       "    <tr>\n",
       "      <th>1</th>\n",
       "      <td>1</td>\n",
       "      <td>NaN</td>\n",
       "      <td>NaN</td>\n",
       "      <td>0.160319</td>\n",
       "      <td>0.170752</td>\n",
       "    </tr>\n",
       "    <tr>\n",
       "      <th>2</th>\n",
       "      <td>2</td>\n",
       "      <td>NaN</td>\n",
       "      <td>NaN</td>\n",
       "      <td>0.160319</td>\n",
       "      <td>0.170752</td>\n",
       "    </tr>\n",
       "    <tr>\n",
       "      <th>3</th>\n",
       "      <td>3</td>\n",
       "      <td>NaN</td>\n",
       "      <td>NaN</td>\n",
       "      <td>0.160319</td>\n",
       "      <td>0.170752</td>\n",
       "    </tr>\n",
       "    <tr>\n",
       "      <th>4</th>\n",
       "      <td>4</td>\n",
       "      <td>NaN</td>\n",
       "      <td>NaN</td>\n",
       "      <td>0.160319</td>\n",
       "      <td>0.170752</td>\n",
       "    </tr>\n",
       "  </tbody>\n",
       "</table>\n",
       "</div>"
      ],
      "text/plain": [
       "   epoch  loss_test  loss_train  score_train  score_test\n",
       "0      0        NaN         NaN     0.160319    0.170752\n",
       "1      1        NaN         NaN     0.160319    0.170752\n",
       "2      2        NaN         NaN     0.160319    0.170752\n",
       "3      3        NaN         NaN     0.160319    0.170752\n",
       "4      4        NaN         NaN     0.160319    0.170752"
      ]
     },
     "execution_count": 5,
     "metadata": {},
     "output_type": "execute_result"
    }
   ],
   "source": [
    "result_df"
   ]
  },
  {
   "attachments": {},
   "cell_type": "markdown",
   "metadata": {},
   "source": [
    "## Vectorisation\n"
   ]
  },
  {
   "cell_type": "code",
   "execution_count": 6,
   "metadata": {},
   "outputs": [
    {
     "name": "stdout",
     "output_type": "stream",
     "text": [
      "[[[[ 0  1  2  3]\n",
      "   [ 5  6  7  8]\n",
      "   [10 11 12 13]\n",
      "   [15 16 17 18]]\n",
      "\n",
      "  [[ 1  2  3  4]\n",
      "   [ 6  7  8  9]\n",
      "   [11 12 13 14]\n",
      "   [16 17 18 19]]]\n",
      "\n",
      "\n",
      " [[[ 5  6  7  8]\n",
      "   [10 11 12 13]\n",
      "   [15 16 17 18]\n",
      "   [20 21 22 23]]\n",
      "\n",
      "  [[ 6  7  8  9]\n",
      "   [11 12 13 14]\n",
      "   [16 17 18 19]\n",
      "   [21 22 23 24]]]] \n",
      "Shape: (2, 2, 4, 4), \tStrides: (20, 4, 20, 4)\n"
     ]
    }
   ],
   "source": [
    "input = np.arange(25).reshape(5, 5)\n",
    "\n",
    "kernel_size = 4\n",
    "layer_stride = 1\n",
    "\n",
    "height, width = input.shape\n",
    "rows_stride, columns_strides = input.strides\n",
    "\n",
    "out_height = int((height - kernel_size) / layer_stride + 1)\n",
    "out_width = int((width - kernel_size) / layer_stride + 1)\n",
    "\n",
    "new_shape = (out_height, out_width, kernel_size, kernel_size)\n",
    "new_strides = (\n",
    "    rows_stride * layer_stride,\n",
    "    columns_strides * layer_stride,\n",
    "    rows_stride,\n",
    "    columns_strides,\n",
    ")\n",
    "\n",
    "windowed_input = np.lib.stride_tricks.as_strided(input, new_shape, new_strides)\n",
    "print(\n",
    "    windowed_input,\n",
    "    f\"\\nShape: {windowed_input.shape}, \\tStrides: {windowed_input.strides}\",\n",
    ")\n"
   ]
  },
  {
   "cell_type": "code",
   "execution_count": 7,
   "metadata": {},
   "outputs": [
    {
     "name": "stdout",
     "output_type": "stream",
     "text": [
      "[[0 1]\n",
      " [3 4]] \n",
      "Shape: (2, 2), \tStrides: (12, 4)\n"
     ]
    }
   ],
   "source": [
    "input = np.arange(5)\n",
    "\n",
    "kernel_size = 2\n",
    "layer_stride = 3\n",
    "\n",
    "length = input.shape[0]\n",
    "rows_stride = input.strides[0]\n",
    "\n",
    "out_height = int((length - kernel_size) / layer_stride + 1)\n",
    "\n",
    "new_shape = (\n",
    "    out_height,\n",
    "    kernel_size,\n",
    ")\n",
    "new_strides = (\n",
    "    rows_stride * layer_stride,\n",
    "    rows_stride,\n",
    ")\n",
    "\n",
    "windowed_input = np.lib.stride_tricks.as_strided(input, new_shape, new_strides)\n",
    "print(\n",
    "    windowed_input,\n",
    "    f\"\\nShape: {windowed_input.shape}, \\tStrides: {windowed_input.strides}\",\n",
    ")\n"
   ]
  }
 ],
 "metadata": {
  "kernelspec": {
   "display_name": "Python 3",
   "language": "python",
   "name": "python3"
  },
  "language_info": {
   "codemirror_mode": {
    "name": "ipython",
    "version": 3
   },
   "file_extension": ".py",
   "mimetype": "text/x-python",
   "name": "python",
   "nbconvert_exporter": "python",
   "pygments_lexer": "ipython3",
   "version": "3.9.13"
  },
  "orig_nbformat": 4
 },
 "nbformat": 4,
 "nbformat_minor": 2
}
