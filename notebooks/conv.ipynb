{
 "cells": [
  {
   "cell_type": "code",
   "execution_count": 1,
   "metadata": {},
   "outputs": [
    {
     "name": "stdout",
     "output_type": "stream",
     "text": [
      "/home/aymeric/Documents/DAC/NeuralNetworksDIY\n"
     ]
    }
   ],
   "source": [
    "%cd .."
   ]
  },
  {
   "cell_type": "code",
   "execution_count": 2,
   "metadata": {},
   "outputs": [],
   "source": [
    "from src.convolution import *\n",
    "from utils.mltools import *\n",
    "\n",
    "def load_usps(fn):\n",
    "    with open(fn, \"r\") as f:\n",
    "        f.readline()\n",
    "        data = [[float(X) for X in l.split()] for l in f if len(l.split()) > 2]\n",
    "    tmp = np.array(data)\n",
    "    return tmp[:, 1:], tmp[:, 0].astype(int)\n",
    "\n",
    "\n",
    "def get_usps(l, X, y):\n",
    "    if type(l) != list:\n",
    "        resx = X[y == l, :]\n",
    "        resy = y[y == l]\n",
    "        return resx, resy\n",
    "    tmp = list(zip(*[get_usps(i, X, y) for i in l]))\n",
    "    tmpx, tmpy = np.vstack(tmp[0]), np.hstack(tmp[1])\n",
    "    return tmpx, tmpy\n",
    "\n",
    "alltrainx, alltrainy = load_usps(\"data/USPS_train.txt\")\n",
    "alltestx, alltesty = load_usps(\"data/USPS_test.txt\")\n",
    "\n",
    "\n",
    "def load_one_class(number):\n",
    "    X_train, y_train = get_usps(number, alltrainx, alltrainy)\n",
    "    X_test, y_test = get_usps(number, alltestx, alltesty)\n",
    "    y_train = np.where(y_train == number, -1, 1).reshape(-1, 1)\n",
    "    y_test = np.where(y_test == number, -1, 1).reshape(-1, 1)\n",
    "    return X_train, y_train, X_test, y_test\n",
    "\n",
    "\n",
    "def load_two_classes(neg, pos):\n",
    "    X_train, y_train = get_usps([neg, pos], alltrainx, alltrainy)\n",
    "    X_test, y_test = get_usps([neg, pos], alltestx, alltesty)\n",
    "    y_train = np.where(y_train == neg, -1, 1).reshape(-1, 1)\n",
    "    y_test = np.where(y_test == neg, -1, 1).reshape(-1, 1)\n",
    "    return X_train, y_train, X_test, y_test\n"
   ]
  },
  {
   "cell_type": "code",
   "execution_count": 3,
   "metadata": {},
   "outputs": [],
   "source": [
    "X_train, y_train, X_test, y_test = load_two_classes(6, 9)\n"
   ]
  },
  {
   "cell_type": "code",
   "execution_count": 4,
   "metadata": {},
   "outputs": [
    {
     "data": {
      "text/plain": [
       "(7291, 256)"
      ]
     },
     "execution_count": 4,
     "metadata": {},
     "output_type": "execute_result"
    }
   ],
   "source": [
    "alltrainx.shape"
   ]
  },
  {
   "cell_type": "code",
   "execution_count": 5,
   "metadata": {},
   "outputs": [
    {
     "data": {
      "text/plain": [
       "(1308, 256, 1)"
      ]
     },
     "execution_count": 5,
     "metadata": {},
     "output_type": "execute_result"
    }
   ],
   "source": [
    "import numpy as np\n",
    "X_train[:,:,np.newaxis].shape"
   ]
  },
  {
   "cell_type": "code",
   "execution_count": 6,
   "metadata": {},
   "outputs": [],
   "source": [
    "conv = Conv1D(3, 1, 1)"
   ]
  },
  {
   "cell_type": "code",
   "execution_count": 7,
   "metadata": {},
   "outputs": [
    {
     "data": {
      "text/plain": [
       "(1308, 254, 1)"
      ]
     },
     "execution_count": 7,
     "metadata": {},
     "output_type": "execute_result"
    }
   ],
   "source": [
    "conv.forward(X_train[:,:,np.newaxis]).shape"
   ]
  },
  {
   "attachments": {},
   "cell_type": "markdown",
   "metadata": {},
   "source": [
    "## Vérif Conv"
   ]
  },
  {
   "cell_type": "code",
   "execution_count": 8,
   "metadata": {},
   "outputs": [],
   "source": [
    "import torch\n",
    "import torch.nn as nn\n"
   ]
  },
  {
   "cell_type": "code",
   "execution_count": 9,
   "metadata": {},
   "outputs": [],
   "source": [
    "convtest = nn.Conv1d(3, 1, 3, stride=1, bias=False)\n",
    "# chan_in, chan_out, k_size"
   ]
  },
  {
   "cell_type": "code",
   "execution_count": 10,
   "metadata": {},
   "outputs": [
    {
     "data": {
      "text/plain": [
       "torch.Size([20, 1, 48])"
      ]
     },
     "execution_count": 10,
     "metadata": {},
     "output_type": "execute_result"
    }
   ],
   "source": [
    "input = torch.randn(20, 3, 50) # N, C_IN, L_IN\n",
    "convtest(input).shape"
   ]
  },
  {
   "cell_type": "code",
   "execution_count": 11,
   "metadata": {},
   "outputs": [
    {
     "data": {
      "text/plain": [
       "(20, 3, 50)"
      ]
     },
     "execution_count": 11,
     "metadata": {},
     "output_type": "execute_result"
    }
   ],
   "source": [
    "input.numpy().shape"
   ]
  },
  {
   "cell_type": "code",
   "execution_count": 12,
   "metadata": {},
   "outputs": [
    {
     "data": {
      "text/plain": [
       "(3, 3, 1)"
      ]
     },
     "execution_count": 12,
     "metadata": {},
     "output_type": "execute_result"
    }
   ],
   "source": [
    "np.transpose(convtest.weight.data.numpy()).shape"
   ]
  },
  {
   "cell_type": "code",
   "execution_count": 13,
   "metadata": {},
   "outputs": [
    {
     "data": {
      "text/plain": [
       "3"
      ]
     },
     "execution_count": 13,
     "metadata": {},
     "output_type": "execute_result"
    }
   ],
   "source": [
    "conv = Conv1D(3, 3, 1, stride=1)\n",
    "conv._chan_in"
   ]
  },
  {
   "cell_type": "code",
   "execution_count": 14,
   "metadata": {},
   "outputs": [],
   "source": [
    "t = conv.forward(input.numpy().reshape((20, 50, 3)))"
   ]
  },
  {
   "cell_type": "code",
   "execution_count": 15,
   "metadata": {},
   "outputs": [
    {
     "data": {
      "text/plain": [
       "(20, 48, 1)"
      ]
     },
     "execution_count": 15,
     "metadata": {},
     "output_type": "execute_result"
    }
   ],
   "source": [
    "t.shape"
   ]
  },
  {
   "attachments": {},
   "cell_type": "markdown",
   "metadata": {},
   "source": [
    "## Vérif MaxPool"
   ]
  },
  {
   "cell_type": "code",
   "execution_count": 16,
   "metadata": {},
   "outputs": [
    {
     "data": {
      "text/plain": [
       "array([[[1.00785136, 1.00785136, 1.00785136],\n",
       "        [0.90141606, 0.90141606, 0.90141606],\n",
       "        [0.91097325, 0.91097325, 0.91097325],\n",
       "        ...,\n",
       "        [1.44450426, 1.44450426, 1.44450426],\n",
       "        [1.28324807, 1.28324807, 1.28324807],\n",
       "        [1.05313575, 1.05313575, 1.05313575]],\n",
       "\n",
       "       [[1.86798263, 1.86798263, 1.86798263],\n",
       "        [2.99563146, 2.99563146, 2.99563146],\n",
       "        [2.4353559 , 2.4353559 , 2.4353559 ],\n",
       "        ...,\n",
       "        [1.24657381, 1.24657381, 1.24657381],\n",
       "        [1.14023805, 1.14023805, 1.14023805],\n",
       "        [0.79479754, 0.79479754, 0.79479754]],\n",
       "\n",
       "       [[1.50867891, 1.50867891, 1.50867891],\n",
       "        [2.37552953, 2.37552953, 2.37552953],\n",
       "        [0.21415713, 0.21415713, 0.21415713],\n",
       "        ...,\n",
       "        [1.37946522, 1.37946522, 1.37946522],\n",
       "        [2.02472448, 2.02472448, 2.02472448],\n",
       "        [0.78938854, 0.78938854, 0.78938854]],\n",
       "\n",
       "       ...,\n",
       "\n",
       "       [[1.66047263, 1.66047263, 1.66047263],\n",
       "        [0.51386803, 0.51386803, 0.51386803],\n",
       "        [1.21378493, 1.21378493, 1.21378493],\n",
       "        ...,\n",
       "        [2.97432542, 2.97432542, 2.97432542],\n",
       "        [0.62813759, 0.62813759, 0.62813759],\n",
       "        [1.23596263, 1.23596263, 1.23596263]],\n",
       "\n",
       "       [[0.36484647, 0.36484647, 0.36484647],\n",
       "        [1.17140484, 1.17140484, 1.17140484],\n",
       "        [1.31079507, 1.31079507, 1.31079507],\n",
       "        ...,\n",
       "        [0.98061496, 0.98061496, 0.98061496],\n",
       "        [1.46753943, 1.46753943, 1.46753943],\n",
       "        [1.51944876, 1.51944876, 1.51944876]],\n",
       "\n",
       "       [[1.52009165, 1.52009165, 1.52009165],\n",
       "        [0.79878813, 0.79878813, 0.79878813],\n",
       "        [1.3017267 , 1.3017267 , 1.3017267 ],\n",
       "        ...,\n",
       "        [1.51742232, 1.51742232, 1.51742232],\n",
       "        [1.00360632, 1.00360632, 1.00360632],\n",
       "        [2.04813576, 2.04813576, 2.04813576]]])"
      ]
     },
     "execution_count": 16,
     "metadata": {},
     "output_type": "execute_result"
    }
   ],
   "source": [
    "maxpool = MaxPool1D(2, 2)\n",
    "t = maxpool.forward(input.numpy().reshape((20, 50, 3)))\n",
    "t"
   ]
  },
  {
   "cell_type": "code",
   "execution_count": 17,
   "metadata": {},
   "outputs": [
    {
     "data": {
      "text/plain": [
       "torch.Size([20, 3, 25])"
      ]
     },
     "execution_count": 17,
     "metadata": {},
     "output_type": "execute_result"
    }
   ],
   "source": [
    "maxpooltorch = nn.MaxPool1d(2, 2)\n",
    "maxpooltorch(input).shape"
   ]
  },
  {
   "cell_type": "code",
   "execution_count": 18,
   "metadata": {},
   "outputs": [
    {
     "data": {
      "text/plain": [
       "(20, 25, 3)"
      ]
     },
     "execution_count": 18,
     "metadata": {},
     "output_type": "execute_result"
    }
   ],
   "source": [
    "AvgPool1D(2, 2).forward(input.numpy().reshape((20, 50, 3))).shape"
   ]
  },
  {
   "cell_type": "code",
   "execution_count": 23,
   "metadata": {},
   "outputs": [
    {
     "data": {
      "text/plain": [
       "array([[ 0.86291444,  1.0078514 ,  0.67324406, ..., -0.2007521 ,\n",
       "         0.82225597, -0.9596776 ],\n",
       "       [ 1.0161036 ,  0.73569316,  0.96725166, ..., -0.27027583,\n",
       "        -2.8135114 , -0.9865924 ],\n",
       "       [ 1.5086789 ,  0.75132716, -0.38362893, ..., -0.85508835,\n",
       "         0.48959982, -0.12163543],\n",
       "       ...,\n",
       "       [-1.3150572 ,  0.31165445, -0.6139964 , ...,  0.45809793,\n",
       "        -0.5672247 ,  0.6660352 ],\n",
       "       [ 0.36484647, -0.2129462 ,  0.27619967, ..., -0.42395306,\n",
       "         1.5194488 ,  0.6684072 ],\n",
       "       [-1.8968289 ,  1.5200917 ,  0.42094302, ..., -0.54694444,\n",
       "        -0.30943432, -0.16444738]], dtype=float32)"
      ]
     },
     "execution_count": 23,
     "metadata": {},
     "output_type": "execute_result"
    }
   ],
   "source": [
    "t = Flatten()\n",
    "t.forward(input.numpy().reshape((20, 50, 3)))"
   ]
  },
  {
   "cell_type": "code",
   "execution_count": 25,
   "metadata": {},
   "outputs": [
    {
     "data": {
      "text/plain": [
       "(20, 50, 3)"
      ]
     },
     "execution_count": 25,
     "metadata": {},
     "output_type": "execute_result"
    }
   ],
   "source": [
    "t.backward(input.numpy().reshape((20, 50, 3))).shape"
   ]
  },
  {
   "cell_type": "code",
   "execution_count": null,
   "metadata": {},
   "outputs": [],
   "source": []
  }
 ],
 "metadata": {
  "kernelspec": {
   "display_name": "Python 3",
   "language": "python",
   "name": "python3"
  },
  "language_info": {
   "codemirror_mode": {
    "name": "ipython",
    "version": 3
   },
   "file_extension": ".py",
   "mimetype": "text/x-python",
   "name": "python",
   "nbconvert_exporter": "python",
   "pygments_lexer": "ipython3",
   "version": "3.10.10"
  },
  "orig_nbformat": 4
 },
 "nbformat": 4,
 "nbformat_minor": 2
}
