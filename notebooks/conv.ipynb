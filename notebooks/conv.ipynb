{
 "cells": [
  {
   "cell_type": "code",
   "execution_count": 1,
   "metadata": {},
   "outputs": [
    {
     "name": "stdout",
     "output_type": "stream",
     "text": [
      "/home/aymeric/Documents/DAC/NeuralNetworksDIY\n"
     ]
    }
   ],
   "source": [
    "%cd .."
   ]
  },
  {
   "cell_type": "code",
   "execution_count": 2,
   "metadata": {},
   "outputs": [],
   "source": [
    "from src.convolution import *\n",
    "from utils.mltools import *\n",
    "\n",
    "def load_usps(fn):\n",
    "    with open(fn, \"r\") as f:\n",
    "        f.readline()\n",
    "        data = [[float(X) for X in l.split()] for l in f if len(l.split()) > 2]\n",
    "    tmp = np.array(data)\n",
    "    return tmp[:, 1:], tmp[:, 0].astype(int)\n",
    "\n",
    "\n",
    "def get_usps(l, X, y):\n",
    "    if type(l) != list:\n",
    "        resx = X[y == l, :]\n",
    "        resy = y[y == l]\n",
    "        return resx, resy\n",
    "    tmp = list(zip(*[get_usps(i, X, y) for i in l]))\n",
    "    tmpx, tmpy = np.vstack(tmp[0]), np.hstack(tmp[1])\n",
    "    return tmpx, tmpy\n",
    "\n",
    "alltrainx, alltrainy = load_usps(\"data/USPS_train.txt\")\n",
    "alltestx, alltesty = load_usps(\"data/USPS_test.txt\")\n",
    "\n",
    "\n",
    "def load_one_class(number):\n",
    "    X_train, y_train = get_usps(number, alltrainx, alltrainy)\n",
    "    X_test, y_test = get_usps(number, alltestx, alltesty)\n",
    "    y_train = np.where(y_train == number, -1, 1).reshape(-1, 1)\n",
    "    y_test = np.where(y_test == number, -1, 1).reshape(-1, 1)\n",
    "    return X_train, y_train, X_test, y_test\n",
    "\n",
    "\n",
    "def load_two_classes(neg, pos):\n",
    "    X_train, y_train = get_usps([neg, pos], alltrainx, alltrainy)\n",
    "    X_test, y_test = get_usps([neg, pos], alltestx, alltesty)\n",
    "    y_train = np.where(y_train == neg, -1, 1).reshape(-1, 1)\n",
    "    y_test = np.where(y_test == neg, -1, 1).reshape(-1, 1)\n",
    "    return X_train, y_train, X_test, y_test\n"
   ]
  },
  {
   "cell_type": "code",
   "execution_count": 3,
   "metadata": {},
   "outputs": [],
   "source": [
    "X_train, y_train, X_test, y_test = load_two_classes(6, 9)\n"
   ]
  },
  {
   "cell_type": "code",
   "execution_count": 4,
   "metadata": {},
   "outputs": [
    {
     "data": {
      "text/plain": [
       "(7291, 256)"
      ]
     },
     "execution_count": 4,
     "metadata": {},
     "output_type": "execute_result"
    }
   ],
   "source": [
    "alltrainx.shape"
   ]
  },
  {
   "cell_type": "code",
   "execution_count": 5,
   "metadata": {},
   "outputs": [
    {
     "data": {
      "text/plain": [
       "(1308, 256, 1)"
      ]
     },
     "execution_count": 5,
     "metadata": {},
     "output_type": "execute_result"
    }
   ],
   "source": [
    "import numpy as np\n",
    "X_train[:,:,np.newaxis].shape"
   ]
  },
  {
   "cell_type": "code",
   "execution_count": 6,
   "metadata": {},
   "outputs": [],
   "source": [
    "conv = Conv1D(3, 1, 1)"
   ]
  },
  {
   "cell_type": "code",
   "execution_count": 7,
   "metadata": {},
   "outputs": [
    {
     "data": {
      "text/plain": [
       "(1308, 254, 1)"
      ]
     },
     "execution_count": 7,
     "metadata": {},
     "output_type": "execute_result"
    }
   ],
   "source": [
    "conv.forward(X_train[:,:,np.newaxis]).shape"
   ]
  },
  {
   "attachments": {},
   "cell_type": "markdown",
   "metadata": {},
   "source": [
    "## Vérif Conv"
   ]
  },
  {
   "cell_type": "code",
   "execution_count": 8,
   "metadata": {},
   "outputs": [],
   "source": [
    "import torch\n",
    "import torch.nn as nn\n"
   ]
  },
  {
   "cell_type": "code",
   "execution_count": 9,
   "metadata": {},
   "outputs": [],
   "source": [
    "convtest = nn.Conv1d(3, 1, 3, stride=1, bias=False)\n",
    "# chan_in, chan_out, k_size"
   ]
  },
  {
   "cell_type": "code",
   "execution_count": 10,
   "metadata": {},
   "outputs": [
    {
     "data": {
      "text/plain": [
       "torch.Size([20, 1, 48])"
      ]
     },
     "execution_count": 10,
     "metadata": {},
     "output_type": "execute_result"
    }
   ],
   "source": [
    "input = torch.randn(20, 3, 50) # N, C_IN, L_IN\n",
    "convtest(input).shape"
   ]
  },
  {
   "cell_type": "code",
   "execution_count": 11,
   "metadata": {},
   "outputs": [
    {
     "data": {
      "text/plain": [
       "(20, 3, 50)"
      ]
     },
     "execution_count": 11,
     "metadata": {},
     "output_type": "execute_result"
    }
   ],
   "source": [
    "input.numpy().shape"
   ]
  },
  {
   "cell_type": "code",
   "execution_count": 12,
   "metadata": {},
   "outputs": [
    {
     "data": {
      "text/plain": [
       "(3, 3, 1)"
      ]
     },
     "execution_count": 12,
     "metadata": {},
     "output_type": "execute_result"
    }
   ],
   "source": [
    "np.transpose(convtest.weight.data.numpy()).shape"
   ]
  },
  {
   "cell_type": "code",
   "execution_count": 13,
   "metadata": {},
   "outputs": [
    {
     "data": {
      "text/plain": [
       "3"
      ]
     },
     "execution_count": 13,
     "metadata": {},
     "output_type": "execute_result"
    }
   ],
   "source": [
    "conv = Conv1D(3, 3, 1, stride=1)\n",
    "conv._chan_in"
   ]
  },
  {
   "cell_type": "code",
   "execution_count": 14,
   "metadata": {},
   "outputs": [],
   "source": [
    "t = conv.forward(input.numpy().reshape((20, 50, 3)))"
   ]
  },
  {
   "cell_type": "code",
   "execution_count": 15,
   "metadata": {},
   "outputs": [
    {
     "data": {
      "text/plain": [
       "(20, 48, 1)"
      ]
     },
     "execution_count": 15,
     "metadata": {},
     "output_type": "execute_result"
    }
   ],
   "source": [
    "t.shape"
   ]
  },
  {
   "attachments": {},
   "cell_type": "markdown",
   "metadata": {},
   "source": [
    "## Vérif MaxPool"
   ]
  },
  {
   "cell_type": "code",
   "execution_count": 24,
   "metadata": {},
   "outputs": [
    {
     "data": {
      "text/plain": [
       "array([[[ 1.36679947,  1.36679947,  1.36679947],\n",
       "        [ 1.76574707,  1.76574707,  1.76574707],\n",
       "        [ 1.64782441,  1.64782441,  1.64782441],\n",
       "        ...,\n",
       "        [ 1.09715641,  1.09715641,  1.09715641],\n",
       "        [ 0.89641809,  0.89641809,  0.89641809],\n",
       "        [ 2.34088182,  2.34088182,  2.34088182]],\n",
       "\n",
       "       [[ 1.10620284,  1.10620284,  1.10620284],\n",
       "        [ 1.68932664,  1.68932664,  1.68932664],\n",
       "        [ 2.80534434,  2.80534434,  2.80534434],\n",
       "        ...,\n",
       "        [ 1.29367065,  1.29367065,  1.29367065],\n",
       "        [ 0.77202016,  0.77202016,  0.77202016],\n",
       "        [ 0.58672637,  0.58672637,  0.58672637]],\n",
       "\n",
       "       [[ 1.13395751,  1.13395751,  1.13395751],\n",
       "        [ 1.27314234,  1.27314234,  1.27314234],\n",
       "        [ 1.76051867,  1.76051867,  1.76051867],\n",
       "        ...,\n",
       "        [ 1.49187005,  1.49187005,  1.49187005],\n",
       "        [ 0.62750763,  0.62750763,  0.62750763],\n",
       "        [ 1.27847016,  1.27847016,  1.27847016]],\n",
       "\n",
       "       ...,\n",
       "\n",
       "       [[ 0.5015828 ,  0.5015828 ,  0.5015828 ],\n",
       "        [ 1.75085175,  1.75085175,  1.75085175],\n",
       "        [ 2.05874562,  2.05874562,  2.05874562],\n",
       "        ...,\n",
       "        [ 1.02469516,  1.02469516,  1.02469516],\n",
       "        [ 0.34121603,  0.34121603,  0.34121603],\n",
       "        [ 0.35638377,  0.35638377,  0.35638377]],\n",
       "\n",
       "       [[-0.28508106, -0.28508106, -0.28508106],\n",
       "        [ 0.28920457,  0.28920457,  0.28920457],\n",
       "        [ 1.41839135,  1.41839135,  1.41839135],\n",
       "        ...,\n",
       "        [ 0.63714588,  0.63714588,  0.63714588],\n",
       "        [ 1.69961584,  1.69961584,  1.69961584],\n",
       "        [ 1.38833189,  1.38833189,  1.38833189]],\n",
       "\n",
       "       [[ 2.09246588,  2.09246588,  2.09246588],\n",
       "        [ 0.37662745,  0.37662745,  0.37662745],\n",
       "        [ 0.94825107,  0.94825107,  0.94825107],\n",
       "        ...,\n",
       "        [ 1.73223686,  1.73223686,  1.73223686],\n",
       "        [ 1.21689761,  1.21689761,  1.21689761],\n",
       "        [ 1.31797075,  1.31797075,  1.31797075]]])"
      ]
     },
     "execution_count": 24,
     "metadata": {},
     "output_type": "execute_result"
    }
   ],
   "source": [
    "maxpool = MaxPool1D(2, 2)\n",
    "t = maxpool.forward(input.numpy().reshape((20, 50, 3)))\n",
    "t"
   ]
  },
  {
   "cell_type": "code",
   "execution_count": 27,
   "metadata": {},
   "outputs": [
    {
     "data": {
      "text/plain": [
       "torch.Size([20, 3, 25])"
      ]
     },
     "execution_count": 27,
     "metadata": {},
     "output_type": "execute_result"
    }
   ],
   "source": [
    "maxpooltorch = nn.MaxPool1d(2, 2)\n",
    "maxpooltorch(input).shape"
   ]
  },
  {
   "cell_type": "code",
   "execution_count": 26,
   "metadata": {},
   "outputs": [
    {
     "data": {
      "text/plain": [
       "(20, 25, 3)"
      ]
     },
     "execution_count": 26,
     "metadata": {},
     "output_type": "execute_result"
    }
   ],
   "source": [
    "AvgPool1D(2, 2).forward(input.numpy().reshape((20, 50, 3))).shape"
   ]
  },
  {
   "cell_type": "code",
   "execution_count": null,
   "metadata": {},
   "outputs": [],
   "source": []
  }
 ],
 "metadata": {
  "kernelspec": {
   "display_name": "Python 3",
   "language": "python",
   "name": "python3"
  },
  "language_info": {
   "codemirror_mode": {
    "name": "ipython",
    "version": 3
   },
   "file_extension": ".py",
   "mimetype": "text/x-python",
   "name": "python",
   "nbconvert_exporter": "python",
   "pygments_lexer": "ipython3",
   "version": "3.10.10"
  },
  "orig_nbformat": 4
 },
 "nbformat": 4,
 "nbformat_minor": 2
}
